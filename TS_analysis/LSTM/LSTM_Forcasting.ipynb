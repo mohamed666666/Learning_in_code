{
 "cells": [
  {
   "cell_type": "code",
   "execution_count": 5,
   "metadata": {},
   "outputs": [],
   "source": [
    "import numpy as np \n",
    "import pandas as pd\n"
   ]
  },
  {
   "cell_type": "code",
   "execution_count": 6,
   "metadata": {},
   "outputs": [],
   "source": [
    "data=pd.read_csv(\"dataArcan.csv\")"
   ]
  },
  {
   "cell_type": "code",
   "execution_count": 7,
   "metadata": {},
   "outputs": [
    {
     "data": {
      "text/html": [
       "<div>\n",
       "<style scoped>\n",
       "    .dataframe tbody tr th:only-of-type {\n",
       "        vertical-align: middle;\n",
       "    }\n",
       "\n",
       "    .dataframe tbody tr th {\n",
       "        vertical-align: top;\n",
       "    }\n",
       "\n",
       "    .dataframe thead th {\n",
       "        text-align: right;\n",
       "    }\n",
       "</style>\n",
       "<table border=\"1\" class=\"dataframe\">\n",
       "  <thead>\n",
       "    <tr style=\"text-align: right;\">\n",
       "      <th></th>\n",
       "      <th>Unnamed: 0</th>\n",
       "      <th>Month</th>\n",
       "      <th>Tourism</th>\n",
       "      <th>Business</th>\n",
       "      <th>Others</th>\n",
       "    </tr>\n",
       "  </thead>\n",
       "  <tbody>\n",
       "    <tr>\n",
       "      <th>0</th>\n",
       "      <td>2015.0</td>\n",
       "      <td>01/01/2015</td>\n",
       "      <td>72%</td>\n",
       "      <td>15%</td>\n",
       "      <td>13%</td>\n",
       "    </tr>\n",
       "    <tr>\n",
       "      <th>1</th>\n",
       "      <td>NaN</td>\n",
       "      <td>02/02/2015</td>\n",
       "      <td>68%</td>\n",
       "      <td>18.5%</td>\n",
       "      <td>13.5%</td>\n",
       "    </tr>\n",
       "    <tr>\n",
       "      <th>2</th>\n",
       "      <td>NaN</td>\n",
       "      <td>03/03/2015</td>\n",
       "      <td>60%</td>\n",
       "      <td>30%</td>\n",
       "      <td>9.99999999999999%</td>\n",
       "    </tr>\n",
       "    <tr>\n",
       "      <th>3</th>\n",
       "      <td>NaN</td>\n",
       "      <td>04/01/2015</td>\n",
       "      <td>60%</td>\n",
       "      <td>20%</td>\n",
       "      <td>20%</td>\n",
       "    </tr>\n",
       "    <tr>\n",
       "      <th>4</th>\n",
       "      <td>NaN</td>\n",
       "      <td>05/01/2015</td>\n",
       "      <td>50%</td>\n",
       "      <td>25%</td>\n",
       "      <td>25%</td>\n",
       "    </tr>\n",
       "  </tbody>\n",
       "</table>\n",
       "</div>"
      ],
      "text/plain": [
       "   Unnamed: 0       Month Tourism Business             Others\n",
       "0      2015.0  01/01/2015     72%      15%                13%\n",
       "1         NaN  02/02/2015     68%    18.5%              13.5%\n",
       "2         NaN  03/03/2015     60%      30%  9.99999999999999%\n",
       "3         NaN  04/01/2015     60%      20%                20%\n",
       "4         NaN  05/01/2015     50%      25%                25%"
      ]
     },
     "execution_count": 7,
     "metadata": {},
     "output_type": "execute_result"
    }
   ],
   "source": [
    "data.head()"
   ]
  },
  {
   "cell_type": "code",
   "execution_count": 5,
   "metadata": {},
   "outputs": [
    {
     "name": "stdout",
     "output_type": "stream",
     "text": [
      "Requirement already satisfied: numpy in /home/mohamed/anaconda3/lib/python3.7/site-packages (1.21.5)\n",
      "Collecting numpy\n",
      "  Downloading numpy-1.21.6-cp37-cp37m-manylinux_2_12_x86_64.manylinux2010_x86_64.whl (15.7 MB)\n",
      "\u001b[2K     \u001b[38;2;114;156;31m━━━━━━━━━━━━━━━━━━━━━━━━━━━━━━━━━━━━━━━\u001b[0m \u001b[32m15.7/15.7 MB\u001b[0m \u001b[31m750.1 kB/s\u001b[0m eta \u001b[36m0:00:00\u001b[0mm eta \u001b[36m0:00:01\u001b[0m[36m0:00:01\u001b[0m\n",
      "\u001b[?25hInstalling collected packages: numpy\n",
      "  Attempting uninstall: numpy\n",
      "    Found existing installation: numpy 1.21.5\n",
      "    Uninstalling numpy-1.21.5:\n",
      "      Successfully uninstalled numpy-1.21.5\n",
      "Successfully installed numpy-1.21.6\n",
      "\u001b[33mWARNING: You are using pip version 22.0.3; however, version 22.1.2 is available.\n",
      "You should consider upgrading via the '/home/mohamed/anaconda3/bin/python -m pip install --upgrade pip' command.\u001b[0m\u001b[33m\n",
      "\u001b[0m"
     ]
    }
   ],
   "source": [
    "!pip3 install numpy --upgrade"
   ]
  },
  {
   "cell_type": "code",
   "execution_count": null,
   "metadata": {},
   "outputs": [],
   "source": []
  },
  {
   "cell_type": "code",
   "execution_count": 8,
   "metadata": {},
   "outputs": [],
   "source": [
    "data.drop(['Unnamed: 0'], axis=1,inplace=True)"
   ]
  },
  {
   "cell_type": "code",
   "execution_count": 9,
   "metadata": {},
   "outputs": [],
   "source": [
    "data['Tourism']=data['Tourism'].str.rstrip('%').astype('float') / 100.0"
   ]
  },
  {
   "cell_type": "code",
   "execution_count": 10,
   "metadata": {},
   "outputs": [
    {
     "data": {
      "text/plain": [
       "0    0.72\n",
       "1    0.68\n",
       "2    0.60\n",
       "3    0.60\n",
       "4    0.50\n",
       "Name: Tourism, dtype: float64"
      ]
     },
     "execution_count": 10,
     "metadata": {},
     "output_type": "execute_result"
    }
   ],
   "source": [
    "data['Tourism'].head()"
   ]
  },
  {
   "cell_type": "code",
   "execution_count": 11,
   "metadata": {},
   "outputs": [],
   "source": [
    "data['Business']=data['Business'].str.rstrip('%').astype('float') / 100.0"
   ]
  },
  {
   "cell_type": "code",
   "execution_count": 12,
   "metadata": {},
   "outputs": [],
   "source": [
    "data['Others']=data['Others'].str.rstrip('%').astype('float') / 100.0"
   ]
  },
  {
   "cell_type": "code",
   "execution_count": 13,
   "metadata": {},
   "outputs": [],
   "source": [
    "data.index=pd.to_datetime(data[\"Month\"])"
   ]
  },
  {
   "cell_type": "code",
   "execution_count": 14,
   "metadata": {},
   "outputs": [
    {
     "data": {
      "text/html": [
       "<div>\n",
       "<style scoped>\n",
       "    .dataframe tbody tr th:only-of-type {\n",
       "        vertical-align: middle;\n",
       "    }\n",
       "\n",
       "    .dataframe tbody tr th {\n",
       "        vertical-align: top;\n",
       "    }\n",
       "\n",
       "    .dataframe thead th {\n",
       "        text-align: right;\n",
       "    }\n",
       "</style>\n",
       "<table border=\"1\" class=\"dataframe\">\n",
       "  <thead>\n",
       "    <tr style=\"text-align: right;\">\n",
       "      <th></th>\n",
       "      <th>Month</th>\n",
       "      <th>Tourism</th>\n",
       "      <th>Business</th>\n",
       "      <th>Others</th>\n",
       "    </tr>\n",
       "    <tr>\n",
       "      <th>Month</th>\n",
       "      <th></th>\n",
       "      <th></th>\n",
       "      <th></th>\n",
       "      <th></th>\n",
       "    </tr>\n",
       "  </thead>\n",
       "  <tbody>\n",
       "    <tr>\n",
       "      <th>2015-01-01</th>\n",
       "      <td>01/01/2015</td>\n",
       "      <td>0.72</td>\n",
       "      <td>0.150</td>\n",
       "      <td>0.130</td>\n",
       "    </tr>\n",
       "    <tr>\n",
       "      <th>2015-02-02</th>\n",
       "      <td>02/02/2015</td>\n",
       "      <td>0.68</td>\n",
       "      <td>0.185</td>\n",
       "      <td>0.135</td>\n",
       "    </tr>\n",
       "    <tr>\n",
       "      <th>2015-03-03</th>\n",
       "      <td>03/03/2015</td>\n",
       "      <td>0.60</td>\n",
       "      <td>0.300</td>\n",
       "      <td>0.100</td>\n",
       "    </tr>\n",
       "    <tr>\n",
       "      <th>2015-04-01</th>\n",
       "      <td>04/01/2015</td>\n",
       "      <td>0.60</td>\n",
       "      <td>0.200</td>\n",
       "      <td>0.200</td>\n",
       "    </tr>\n",
       "    <tr>\n",
       "      <th>2015-05-01</th>\n",
       "      <td>05/01/2015</td>\n",
       "      <td>0.50</td>\n",
       "      <td>0.250</td>\n",
       "      <td>0.250</td>\n",
       "    </tr>\n",
       "  </tbody>\n",
       "</table>\n",
       "</div>"
      ],
      "text/plain": [
       "                 Month  Tourism  Business  Others\n",
       "Month                                            \n",
       "2015-01-01  01/01/2015     0.72     0.150   0.130\n",
       "2015-02-02  02/02/2015     0.68     0.185   0.135\n",
       "2015-03-03  03/03/2015     0.60     0.300   0.100\n",
       "2015-04-01  04/01/2015     0.60     0.200   0.200\n",
       "2015-05-01  05/01/2015     0.50     0.250   0.250"
      ]
     },
     "execution_count": 14,
     "metadata": {},
     "output_type": "execute_result"
    }
   ],
   "source": [
    "data.head()"
   ]
  },
  {
   "cell_type": "code",
   "execution_count": 15,
   "metadata": {},
   "outputs": [],
   "source": [
    "data.drop([\"Month\"],axis=1,inplace=True)"
   ]
  },
  {
   "cell_type": "code",
   "execution_count": 16,
   "metadata": {},
   "outputs": [
    {
     "data": {
      "text/html": [
       "<div>\n",
       "<style scoped>\n",
       "    .dataframe tbody tr th:only-of-type {\n",
       "        vertical-align: middle;\n",
       "    }\n",
       "\n",
       "    .dataframe tbody tr th {\n",
       "        vertical-align: top;\n",
       "    }\n",
       "\n",
       "    .dataframe thead th {\n",
       "        text-align: right;\n",
       "    }\n",
       "</style>\n",
       "<table border=\"1\" class=\"dataframe\">\n",
       "  <thead>\n",
       "    <tr style=\"text-align: right;\">\n",
       "      <th></th>\n",
       "      <th>Tourism</th>\n",
       "      <th>Business</th>\n",
       "      <th>Others</th>\n",
       "    </tr>\n",
       "    <tr>\n",
       "      <th>Month</th>\n",
       "      <th></th>\n",
       "      <th></th>\n",
       "      <th></th>\n",
       "    </tr>\n",
       "  </thead>\n",
       "  <tbody>\n",
       "    <tr>\n",
       "      <th>2015-01-01</th>\n",
       "      <td>0.72</td>\n",
       "      <td>0.150</td>\n",
       "      <td>0.130</td>\n",
       "    </tr>\n",
       "    <tr>\n",
       "      <th>2015-02-02</th>\n",
       "      <td>0.68</td>\n",
       "      <td>0.185</td>\n",
       "      <td>0.135</td>\n",
       "    </tr>\n",
       "    <tr>\n",
       "      <th>2015-03-03</th>\n",
       "      <td>0.60</td>\n",
       "      <td>0.300</td>\n",
       "      <td>0.100</td>\n",
       "    </tr>\n",
       "    <tr>\n",
       "      <th>2015-04-01</th>\n",
       "      <td>0.60</td>\n",
       "      <td>0.200</td>\n",
       "      <td>0.200</td>\n",
       "    </tr>\n",
       "    <tr>\n",
       "      <th>2015-05-01</th>\n",
       "      <td>0.50</td>\n",
       "      <td>0.250</td>\n",
       "      <td>0.250</td>\n",
       "    </tr>\n",
       "  </tbody>\n",
       "</table>\n",
       "</div>"
      ],
      "text/plain": [
       "            Tourism  Business  Others\n",
       "Month                                \n",
       "2015-01-01     0.72     0.150   0.130\n",
       "2015-02-02     0.68     0.185   0.135\n",
       "2015-03-03     0.60     0.300   0.100\n",
       "2015-04-01     0.60     0.200   0.200\n",
       "2015-05-01     0.50     0.250   0.250"
      ]
     },
     "execution_count": 16,
     "metadata": {},
     "output_type": "execute_result"
    }
   ],
   "source": [
    "data.head()"
   ]
  },
  {
   "cell_type": "code",
   "execution_count": 17,
   "metadata": {},
   "outputs": [],
   "source": [
    "business=data['Business']"
   ]
  },
  {
   "cell_type": "code",
   "execution_count": 18,
   "metadata": {},
   "outputs": [],
   "source": [
    "tourism=data['Tourism']"
   ]
  },
  {
   "cell_type": "code",
   "execution_count": 19,
   "metadata": {},
   "outputs": [
    {
     "data": {
      "text/plain": [
       "Month\n",
       "2015-01-01    0.72\n",
       "2015-02-02    0.68\n",
       "2015-03-03    0.60\n",
       "2015-04-01    0.60\n",
       "2015-05-01    0.50\n",
       "Name: Tourism, dtype: float64"
      ]
     },
     "execution_count": 19,
     "metadata": {},
     "output_type": "execute_result"
    }
   ],
   "source": [
    "tourism.head()"
   ]
  },
  {
   "cell_type": "code",
   "execution_count": 20,
   "metadata": {},
   "outputs": [],
   "source": [
    "import matplotlib.pyplot as plt"
   ]
  },
  {
   "cell_type": "code",
   "execution_count": 21,
   "metadata": {},
   "outputs": [
    {
     "name": "stderr",
     "output_type": "stream",
     "text": [
      "/home/mohamed/anaconda3/lib/python3.7/site-packages/matplotlib/cbook/__init__.py:1377: FutureWarning: Support for multi-dimensional indexing (e.g. `obj[:, None]`) is deprecated and will be removed in a future version.  Convert to a numpy array before indexing instead.\n",
      "  x[:, None]\n",
      "/home/mohamed/anaconda3/lib/python3.7/site-packages/matplotlib/cbook/__init__.py:1377: FutureWarning: Support for multi-dimensional indexing (e.g. `obj[:, None]`) is deprecated and will be removed in a future version.  Convert to a numpy array before indexing instead.\n",
      "  x[:, None]\n",
      "/home/mohamed/anaconda3/lib/python3.7/site-packages/matplotlib/axes/_base.py:237: FutureWarning: Support for multi-dimensional indexing (e.g. `obj[:, None]`) is deprecated and will be removed in a future version.  Convert to a numpy array before indexing instead.\n",
      "  x = x[:, np.newaxis]\n",
      "/home/mohamed/anaconda3/lib/python3.7/site-packages/matplotlib/axes/_base.py:239: FutureWarning: Support for multi-dimensional indexing (e.g. `obj[:, None]`) is deprecated and will be removed in a future version.  Convert to a numpy array before indexing instead.\n",
      "  y = y[:, np.newaxis]\n"
     ]
    },
    {
     "data": {
      "image/png": "[encoded data removed]",
      "text/plain": [
       "<Figure size 432x288 with 1 Axes>"
      ]
     },
     "metadata": {
      "needs_background": "light"
     },
     "output_type": "display_data"
    }
   ],
   "source": [
    "\n",
    "plt.plot(data.index,data[\"Tourism\"])\n",
    "\n",
    "plt.title('tourism bookings ')\n",
    "plt.xlabel('Year')\n",
    "plt.ylabel('perecentage')\n",
    "plt.show()"
   ]
  },
  {
   "cell_type": "code",
   "execution_count": 22,
   "metadata": {},
   "outputs": [
    {
     "name": "stderr",
     "output_type": "stream",
     "text": [
      "/home/mohamed/anaconda3/lib/python3.7/site-packages/matplotlib/cbook/__init__.py:1377: FutureWarning: Support for multi-dimensional indexing (e.g. `obj[:, None]`) is deprecated and will be removed in a future version.  Convert to a numpy array before indexing instead.\n",
      "  x[:, None]\n",
      "/home/mohamed/anaconda3/lib/python3.7/site-packages/matplotlib/axes/_base.py:237: FutureWarning: Support for multi-dimensional indexing (e.g. `obj[:, None]`) is deprecated and will be removed in a future version.  Convert to a numpy array before indexing instead.\n",
      "  x = x[:, np.newaxis]\n",
      "/home/mohamed/anaconda3/lib/python3.7/site-packages/matplotlib/axes/_base.py:239: FutureWarning: Support for multi-dimensional indexing (e.g. `obj[:, None]`) is deprecated and will be removed in a future version.  Convert to a numpy array before indexing instead.\n",
      "  y = y[:, np.newaxis]\n"
     ]
    },
    {
     "data": {
      "image/png": "[encoded data removed]",
      "text/plain": [
       "<Figure size 432x288 with 1 Axes>"
      ]
     },
     "metadata": {
      "needs_background": "light"
     },
     "output_type": "display_data"
    }
   ],
   "source": [
    "\n",
    "plt.plot(data.index,data[\"Business\"])\n",
    "\n",
    "plt.title('Business bookings ')\n",
    "plt.xlabel('Year')\n",
    "plt.ylabel('perecentage')\n",
    "plt.show()"
   ]
  },
  {
   "cell_type": "code",
   "execution_count": 23,
   "metadata": {},
   "outputs": [
    {
     "data": {
      "text/html": [
       "<div>\n",
       "<style scoped>\n",
       "    .dataframe tbody tr th:only-of-type {\n",
       "        vertical-align: middle;\n",
       "    }\n",
       "\n",
       "    .dataframe tbody tr th {\n",
       "        vertical-align: top;\n",
       "    }\n",
       "\n",
       "    .dataframe thead th {\n",
       "        text-align: right;\n",
       "    }\n",
       "</style>\n",
       "<table border=\"1\" class=\"dataframe\">\n",
       "  <thead>\n",
       "    <tr style=\"text-align: right;\">\n",
       "      <th></th>\n",
       "      <th>Tourism</th>\n",
       "      <th>Business</th>\n",
       "      <th>Others</th>\n",
       "    </tr>\n",
       "    <tr>\n",
       "      <th>Month</th>\n",
       "      <th></th>\n",
       "      <th></th>\n",
       "      <th></th>\n",
       "    </tr>\n",
       "  </thead>\n",
       "  <tbody>\n",
       "    <tr>\n",
       "      <th>2015-01-01</th>\n",
       "      <td>0.72</td>\n",
       "      <td>0.150</td>\n",
       "      <td>0.130</td>\n",
       "    </tr>\n",
       "    <tr>\n",
       "      <th>2015-02-02</th>\n",
       "      <td>0.68</td>\n",
       "      <td>0.185</td>\n",
       "      <td>0.135</td>\n",
       "    </tr>\n",
       "    <tr>\n",
       "      <th>2015-03-03</th>\n",
       "      <td>0.60</td>\n",
       "      <td>0.300</td>\n",
       "      <td>0.100</td>\n",
       "    </tr>\n",
       "    <tr>\n",
       "      <th>2015-04-01</th>\n",
       "      <td>0.60</td>\n",
       "      <td>0.200</td>\n",
       "      <td>0.200</td>\n",
       "    </tr>\n",
       "    <tr>\n",
       "      <th>2015-05-01</th>\n",
       "      <td>0.50</td>\n",
       "      <td>0.250</td>\n",
       "      <td>0.250</td>\n",
       "    </tr>\n",
       "    <tr>\n",
       "      <th>2015-06-02</th>\n",
       "      <td>0.55</td>\n",
       "      <td>0.200</td>\n",
       "      <td>0.250</td>\n",
       "    </tr>\n",
       "    <tr>\n",
       "      <th>2015-07-01</th>\n",
       "      <td>0.75</td>\n",
       "      <td>0.200</td>\n",
       "      <td>0.050</td>\n",
       "    </tr>\n",
       "    <tr>\n",
       "      <th>2015-08-02</th>\n",
       "      <td>0.85</td>\n",
       "      <td>0.100</td>\n",
       "      <td>0.050</td>\n",
       "    </tr>\n",
       "    <tr>\n",
       "      <th>2015-09-01</th>\n",
       "      <td>0.60</td>\n",
       "      <td>0.200</td>\n",
       "      <td>0.200</td>\n",
       "    </tr>\n",
       "    <tr>\n",
       "      <th>2015-10-10</th>\n",
       "      <td>0.40</td>\n",
       "      <td>0.300</td>\n",
       "      <td>0.300</td>\n",
       "    </tr>\n",
       "  </tbody>\n",
       "</table>\n",
       "</div>"
      ],
      "text/plain": [
       "            Tourism  Business  Others\n",
       "Month                                \n",
       "2015-01-01     0.72     0.150   0.130\n",
       "2015-02-02     0.68     0.185   0.135\n",
       "2015-03-03     0.60     0.300   0.100\n",
       "2015-04-01     0.60     0.200   0.200\n",
       "2015-05-01     0.50     0.250   0.250\n",
       "2015-06-02     0.55     0.200   0.250\n",
       "2015-07-01     0.75     0.200   0.050\n",
       "2015-08-02     0.85     0.100   0.050\n",
       "2015-09-01     0.60     0.200   0.200\n",
       "2015-10-10     0.40     0.300   0.300"
      ]
     },
     "execution_count": 23,
     "metadata": {},
     "output_type": "execute_result"
    }
   ],
   "source": [
    "data.head(10)"
   ]
  },
  {
   "cell_type": "markdown",
   "metadata": {},
   "source": [
    "# seperat data to train and test set"
   ]
  },
  {
   "cell_type": "code",
   "execution_count": 24,
   "metadata": {},
   "outputs": [],
   "source": [
    "def data_to_x_y(Df,WindowSize):\n",
    "    data_array=Df.to_numpy()\n",
    "    X=[]\n",
    "    Y=[]\n",
    "    \n",
    "    for i in range(len(data_array)-WindowSize):\n",
    "        row=[[a] for a in data_array[i:i+WindowSize] ]\n",
    "        X.append(row)\n",
    "        Y.append(data_array[i+WindowSize])\n",
    "    return np.array(X),np.array(Y)"
   ]
  },
  {
   "cell_type": "code",
   "execution_count": 25,
   "metadata": {},
   "outputs": [],
   "source": [
    "X,Y=data_to_x_y(tourism,4)"
   ]
  },
  {
   "cell_type": "code",
   "execution_count": 26,
   "metadata": {},
   "outputs": [
    {
     "data": {
      "text/plain": [
       "array([[[0.72],\n",
       "        [0.68],\n",
       "        [0.6 ],\n",
       "        [0.6 ]],\n",
       "\n",
       "       [[0.68],\n",
       "        [0.6 ],\n",
       "        [0.6 ],\n",
       "        [0.5 ]],\n",
       "\n",
       "       [[0.6 ],\n",
       "        [0.6 ],\n",
       "        [0.5 ],\n",
       "        [0.55]],\n",
       "\n",
       "       [[0.6 ],\n",
       "        [0.5 ],\n",
       "        [0.55],\n",
       "        [0.75]],\n",
       "\n",
       "       [[0.5 ],\n",
       "        [0.55],\n",
       "        [0.75],\n",
       "        [0.85]],\n",
       "\n",
       "       [[0.55],\n",
       "        [0.75],\n",
       "        [0.85],\n",
       "        [0.6 ]],\n",
       "\n",
       "       [[0.75],\n",
       "        [0.85],\n",
       "        [0.6 ],\n",
       "        [0.4 ]],\n",
       "\n",
       "       [[0.85],\n",
       "        [0.6 ],\n",
       "        [0.4 ],\n",
       "        [0.6 ]],\n",
       "\n",
       "       [[0.6 ],\n",
       "        [0.4 ],\n",
       "        [0.6 ],\n",
       "        [0.5 ]],\n",
       "\n",
       "       [[0.4 ],\n",
       "        [0.6 ],\n",
       "        [0.5 ],\n",
       "        [0.61]],\n",
       "\n",
       "       [[0.6 ],\n",
       "        [0.5 ],\n",
       "        [0.61],\n",
       "        [0.45]],\n",
       "\n",
       "       [[0.5 ],\n",
       "        [0.61],\n",
       "        [0.45],\n",
       "        [0.5 ]],\n",
       "\n",
       "       [[0.61],\n",
       "        [0.45],\n",
       "        [0.5 ],\n",
       "        [0.61]],\n",
       "\n",
       "       [[0.45],\n",
       "        [0.5 ],\n",
       "        [0.61],\n",
       "        [0.53]],\n",
       "\n",
       "       [[0.5 ],\n",
       "        [0.61],\n",
       "        [0.53],\n",
       "        [0.5 ]],\n",
       "\n",
       "       [[0.61],\n",
       "        [0.53],\n",
       "        [0.5 ],\n",
       "        [0.46]],\n",
       "\n",
       "       [[0.53],\n",
       "        [0.5 ],\n",
       "        [0.46],\n",
       "        [0.53]],\n",
       "\n",
       "       [[0.5 ],\n",
       "        [0.46],\n",
       "        [0.53],\n",
       "        [0.48]],\n",
       "\n",
       "       [[0.46],\n",
       "        [0.53],\n",
       "        [0.48],\n",
       "        [0.54]],\n",
       "\n",
       "       [[0.53],\n",
       "        [0.48],\n",
       "        [0.54],\n",
       "        [0.6 ]],\n",
       "\n",
       "       [[0.48],\n",
       "        [0.54],\n",
       "        [0.6 ],\n",
       "        [0.55]],\n",
       "\n",
       "       [[0.54],\n",
       "        [0.6 ],\n",
       "        [0.55],\n",
       "        [0.65]],\n",
       "\n",
       "       [[0.6 ],\n",
       "        [0.55],\n",
       "        [0.65],\n",
       "        [0.45]],\n",
       "\n",
       "       [[0.55],\n",
       "        [0.65],\n",
       "        [0.45],\n",
       "        [0.45]],\n",
       "\n",
       "       [[0.65],\n",
       "        [0.45],\n",
       "        [0.45],\n",
       "        [0.7 ]],\n",
       "\n",
       "       [[0.45],\n",
       "        [0.45],\n",
       "        [0.7 ],\n",
       "        [0.62]],\n",
       "\n",
       "       [[0.45],\n",
       "        [0.7 ],\n",
       "        [0.62],\n",
       "        [0.65]],\n",
       "\n",
       "       [[0.7 ],\n",
       "        [0.62],\n",
       "        [0.65],\n",
       "        [0.6 ]],\n",
       "\n",
       "       [[0.62],\n",
       "        [0.65],\n",
       "        [0.6 ],\n",
       "        [0.6 ]],\n",
       "\n",
       "       [[0.65],\n",
       "        [0.6 ],\n",
       "        [0.6 ],\n",
       "        [0.5 ]],\n",
       "\n",
       "       [[0.6 ],\n",
       "        [0.6 ],\n",
       "        [0.5 ],\n",
       "        [0.55]],\n",
       "\n",
       "       [[0.6 ],\n",
       "        [0.5 ],\n",
       "        [0.55],\n",
       "        [0.6 ]],\n",
       "\n",
       "       [[0.5 ],\n",
       "        [0.55],\n",
       "        [0.6 ],\n",
       "        [0.6 ]],\n",
       "\n",
       "       [[0.55],\n",
       "        [0.6 ],\n",
       "        [0.6 ],\n",
       "        [0.66]],\n",
       "\n",
       "       [[0.6 ],\n",
       "        [0.6 ],\n",
       "        [0.66],\n",
       "        [0.46]],\n",
       "\n",
       "       [[0.6 ],\n",
       "        [0.66],\n",
       "        [0.46],\n",
       "        [0.46]],\n",
       "\n",
       "       [[0.66],\n",
       "        [0.46],\n",
       "        [0.46],\n",
       "        [0.71]],\n",
       "\n",
       "       [[0.46],\n",
       "        [0.46],\n",
       "        [0.71],\n",
       "        [0.63]],\n",
       "\n",
       "       [[0.46],\n",
       "        [0.71],\n",
       "        [0.63],\n",
       "        [0.66]],\n",
       "\n",
       "       [[0.71],\n",
       "        [0.63],\n",
       "        [0.66],\n",
       "        [0.61]],\n",
       "\n",
       "       [[0.63],\n",
       "        [0.66],\n",
       "        [0.61],\n",
       "        [0.61]],\n",
       "\n",
       "       [[0.66],\n",
       "        [0.61],\n",
       "        [0.61],\n",
       "        [0.51]],\n",
       "\n",
       "       [[0.61],\n",
       "        [0.61],\n",
       "        [0.51],\n",
       "        [0.56]],\n",
       "\n",
       "       [[0.61],\n",
       "        [0.51],\n",
       "        [0.56],\n",
       "        [0.61]],\n",
       "\n",
       "       [[0.51],\n",
       "        [0.56],\n",
       "        [0.61],\n",
       "        [0.65]],\n",
       "\n",
       "       [[0.56],\n",
       "        [0.61],\n",
       "        [0.65],\n",
       "        [0.45]],\n",
       "\n",
       "       [[0.61],\n",
       "        [0.65],\n",
       "        [0.45],\n",
       "        [0.45]],\n",
       "\n",
       "       [[0.65],\n",
       "        [0.45],\n",
       "        [0.45],\n",
       "        [0.7 ]],\n",
       "\n",
       "       [[0.45],\n",
       "        [0.45],\n",
       "        [0.7 ],\n",
       "        [0.62]],\n",
       "\n",
       "       [[0.45],\n",
       "        [0.7 ],\n",
       "        [0.62],\n",
       "        [0.65]],\n",
       "\n",
       "       [[0.7 ],\n",
       "        [0.62],\n",
       "        [0.65],\n",
       "        [0.6 ]],\n",
       "\n",
       "       [[0.62],\n",
       "        [0.65],\n",
       "        [0.6 ],\n",
       "        [0.6 ]],\n",
       "\n",
       "       [[0.65],\n",
       "        [0.6 ],\n",
       "        [0.6 ],\n",
       "        [0.5 ]],\n",
       "\n",
       "       [[0.6 ],\n",
       "        [0.6 ],\n",
       "        [0.5 ],\n",
       "        [0.55]],\n",
       "\n",
       "       [[0.6 ],\n",
       "        [0.5 ],\n",
       "        [0.55],\n",
       "        [0.6 ]],\n",
       "\n",
       "       [[0.5 ],\n",
       "        [0.55],\n",
       "        [0.6 ],\n",
       "        [0.6 ]],\n",
       "\n",
       "       [[0.55],\n",
       "        [0.6 ],\n",
       "        [0.6 ],\n",
       "        [0.1 ]],\n",
       "\n",
       "       [[0.6 ],\n",
       "        [0.6 ],\n",
       "        [0.1 ],\n",
       "        [0.11]],\n",
       "\n",
       "       [[0.6 ],\n",
       "        [0.1 ],\n",
       "        [0.11],\n",
       "        [0.12]],\n",
       "\n",
       "       [[0.1 ],\n",
       "        [0.11],\n",
       "        [0.12],\n",
       "        [0.13]],\n",
       "\n",
       "       [[0.11],\n",
       "        [0.12],\n",
       "        [0.13],\n",
       "        [0.14]],\n",
       "\n",
       "       [[0.12],\n",
       "        [0.13],\n",
       "        [0.14],\n",
       "        [0.15]],\n",
       "\n",
       "       [[0.13],\n",
       "        [0.14],\n",
       "        [0.15],\n",
       "        [0.16]],\n",
       "\n",
       "       [[0.14],\n",
       "        [0.15],\n",
       "        [0.16],\n",
       "        [0.17]],\n",
       "\n",
       "       [[0.15],\n",
       "        [0.16],\n",
       "        [0.17],\n",
       "        [0.18]],\n",
       "\n",
       "       [[0.16],\n",
       "        [0.17],\n",
       "        [0.18],\n",
       "        [0.19]],\n",
       "\n",
       "       [[0.17],\n",
       "        [0.18],\n",
       "        [0.19],\n",
       "        [0.2 ]],\n",
       "\n",
       "       [[0.18],\n",
       "        [0.19],\n",
       "        [0.2 ],\n",
       "        [0.21]],\n",
       "\n",
       "       [[0.19],\n",
       "        [0.2 ],\n",
       "        [0.21],\n",
       "        [0.22]],\n",
       "\n",
       "       [[0.2 ],\n",
       "        [0.21],\n",
       "        [0.22],\n",
       "        [0.23]],\n",
       "\n",
       "       [[0.21],\n",
       "        [0.22],\n",
       "        [0.23],\n",
       "        [0.24]],\n",
       "\n",
       "       [[0.22],\n",
       "        [0.23],\n",
       "        [0.24],\n",
       "        [0.25]],\n",
       "\n",
       "       [[0.23],\n",
       "        [0.24],\n",
       "        [0.25],\n",
       "        [0.26]],\n",
       "\n",
       "       [[0.24],\n",
       "        [0.25],\n",
       "        [0.26],\n",
       "        [0.27]],\n",
       "\n",
       "       [[0.25],\n",
       "        [0.26],\n",
       "        [0.27],\n",
       "        [0.28]],\n",
       "\n",
       "       [[0.26],\n",
       "        [0.27],\n",
       "        [0.28],\n",
       "        [0.29]],\n",
       "\n",
       "       [[0.27],\n",
       "        [0.28],\n",
       "        [0.29],\n",
       "        [0.3 ]],\n",
       "\n",
       "       [[0.28],\n",
       "        [0.29],\n",
       "        [0.3 ],\n",
       "        [0.31]],\n",
       "\n",
       "       [[0.29],\n",
       "        [0.3 ],\n",
       "        [0.31],\n",
       "        [0.32]]])"
      ]
     },
     "execution_count": 26,
     "metadata": {},
     "output_type": "execute_result"
    }
   ],
   "source": [
    "X"
   ]
  },
  {
   "cell_type": "code",
   "execution_count": 27,
   "metadata": {},
   "outputs": [
    {
     "data": {
      "text/plain": [
       "(79, 4, 1)"
      ]
     },
     "execution_count": 27,
     "metadata": {},
     "output_type": "execute_result"
    }
   ],
   "source": [
    "X.shape"
   ]
  },
  {
   "cell_type": "code",
   "execution_count": 28,
   "metadata": {},
   "outputs": [
    {
     "data": {
      "text/plain": [
       "(79,)"
      ]
     },
     "execution_count": 28,
     "metadata": {},
     "output_type": "execute_result"
    }
   ],
   "source": [
    "Y.shape"
   ]
  },
  {
   "cell_type": "code",
   "execution_count": 29,
   "metadata": {},
   "outputs": [
    {
     "data": {
      "text/plain": [
       "47.4"
      ]
     },
     "execution_count": 29,
     "metadata": {},
     "output_type": "execute_result"
    }
   ],
   "source": [
    "0.6*79# 60% of data points to train model "
   ]
  },
  {
   "cell_type": "code",
   "execution_count": 30,
   "metadata": {},
   "outputs": [],
   "source": [
    "x_train,y_train=X[:48],Y[:48]\n",
    "x_test,y_test=X[48:],Y[48:]"
   ]
  },
  {
   "cell_type": "markdown",
   "metadata": {},
   "source": [
    "# build the LSTM model "
   ]
  },
  {
   "cell_type": "code",
   "execution_count": 31,
   "metadata": {},
   "outputs": [],
   "source": [
    "from tensorflow.keras.models import Sequential\n",
    "from tensorflow.keras.layers import *\n",
    "from tensorflow.keras.losses import MeanSquaredError\n",
    "from tensorflow.keras.metrics import RootMeanSquaredError\n",
    "from tensorflow.keras.optimizers import Adam"
   ]
  },
  {
   "cell_type": "code",
   "execution_count": 84,
   "metadata": {},
   "outputs": [],
   "source": [
    "tourism_model=Sequential()\n",
    "tourism_model.add(InputLayer((4,1)))\n",
    "tourism_model.add(LSTM(32))\n",
    "tourism_model.add(Dense(16,'relu'))\n",
    "\n",
    "tourism_model.add(Dense(8,'relu'))\n",
    "tourism_model.add(Dense(1))"
   ]
  },
  {
   "cell_type": "code",
   "execution_count": 85,
   "metadata": {},
   "outputs": [
    {
     "name": "stdout",
     "output_type": "stream",
     "text": [
      "Model: \"sequential_3\"\n",
      "_________________________________________________________________\n",
      "Layer (type)                 Output Shape              Param #   \n",
      "=================================================================\n",
      "lstm_3 (LSTM)                (None, 32)                4352      \n",
      "_________________________________________________________________\n",
      "dense_7 (Dense)              (None, 16)                528       \n",
      "_________________________________________________________________\n",
      "dense_8 (Dense)              (None, 8)                 136       \n",
      "_________________________________________________________________\n",
      "dense_9 (Dense)              (None, 1)                 9         \n",
      "=================================================================\n",
      "Total params: 5,025\n",
      "Trainable params: 5,025\n",
      "Non-trainable params: 0\n",
      "_________________________________________________________________\n"
     ]
    }
   ],
   "source": [
    "tourism_model.summary()"
   ]
  },
  {
   "cell_type": "code",
   "execution_count": 87,
   "metadata": {},
   "outputs": [],
   "source": [
    "tourism_model.compile(loss=MeanSquaredError(),optimizer=Adam(learning_rate=0.001),metrics=[RootMeanSquaredError()])"
   ]
  },
  {
   "cell_type": "code",
   "execution_count": 88,
   "metadata": {},
   "outputs": [
    {
     "name": "stdout",
     "output_type": "stream",
     "text": [
      "Epoch 1/90\n",
      "48/48 [==============================] - 1s 14ms/sample - loss: 0.3720 - root_mean_squared_error: 0.6099\n",
      "Epoch 2/90\n",
      "48/48 [==============================] - 0s 305us/sample - loss: 0.3293 - root_mean_squared_error: 0.5738\n",
      "Epoch 3/90\n",
      "48/48 [==============================] - 0s 441us/sample - loss: 0.2903 - root_mean_squared_error: 0.5388\n",
      "Epoch 4/90\n",
      "48/48 [==============================] - 0s 424us/sample - loss: 0.2585 - root_mean_squared_error: 0.5084\n",
      "Epoch 5/90\n",
      "48/48 [==============================] - 0s 340us/sample - loss: 0.2282 - root_mean_squared_error: 0.4777\n",
      "Epoch 6/90\n",
      "48/48 [==============================] - 0s 475us/sample - loss: 0.2064 - root_mean_squared_error: 0.4543\n",
      "Epoch 7/90\n",
      "48/48 [==============================] - 0s 354us/sample - loss: 0.1893 - root_mean_squared_error: 0.4350\n",
      "Epoch 8/90\n",
      "48/48 [==============================] - 0s 448us/sample - loss: 0.1717 - root_mean_squared_error: 0.4144\n",
      "Epoch 9/90\n",
      "48/48 [==============================] - 0s 381us/sample - loss: 0.1537 - root_mean_squared_error: 0.3920\n",
      "Epoch 10/90\n",
      "48/48 [==============================] - 0s 405us/sample - loss: 0.1363 - root_mean_squared_error: 0.3691\n",
      "Epoch 11/90\n",
      "48/48 [==============================] - 0s 445us/sample - loss: 0.1192 - root_mean_squared_error: 0.3452\n",
      "Epoch 12/90\n",
      "48/48 [==============================] - 0s 374us/sample - loss: 0.1033 - root_mean_squared_error: 0.3215\n",
      "Epoch 13/90\n",
      "48/48 [==============================] - 0s 366us/sample - loss: 0.0878 - root_mean_squared_error: 0.2963\n",
      "Epoch 14/90\n",
      "48/48 [==============================] - 0s 406us/sample - loss: 0.0732 - root_mean_squared_error: 0.2705\n",
      "Epoch 15/90\n",
      "48/48 [==============================] - 0s 377us/sample - loss: 0.0593 - root_mean_squared_error: 0.2436\n",
      "Epoch 16/90\n",
      "48/48 [==============================] - 0s 415us/sample - loss: 0.0476 - root_mean_squared_error: 0.2183\n",
      "Epoch 17/90\n",
      "48/48 [==============================] - 0s 465us/sample - loss: 0.0368 - root_mean_squared_error: 0.1917\n",
      "Epoch 18/90\n",
      "48/48 [==============================] - 0s 460us/sample - loss: 0.0276 - root_mean_squared_error: 0.1662\n",
      "Epoch 19/90\n",
      "48/48 [==============================] - 0s 530us/sample - loss: 0.0204 - root_mean_squared_error: 0.1429\n",
      "Epoch 20/90\n",
      "48/48 [==============================] - 0s 449us/sample - loss: 0.0151 - root_mean_squared_error: 0.1231\n",
      "Epoch 21/90\n",
      "48/48 [==============================] - 0s 396us/sample - loss: 0.0116 - root_mean_squared_error: 0.1075\n",
      "Epoch 22/90\n",
      "48/48 [==============================] - 0s 380us/sample - loss: 0.0099 - root_mean_squared_error: 0.0995\n",
      "Epoch 23/90\n",
      "48/48 [==============================] - 0s 478us/sample - loss: 0.0098 - root_mean_squared_error: 0.0990\n",
      "Epoch 24/90\n",
      "48/48 [==============================] - 0s 352us/sample - loss: 0.0103 - root_mean_squared_error: 0.1014\n",
      "Epoch 25/90\n",
      "48/48 [==============================] - 0s 442us/sample - loss: 0.0117 - root_mean_squared_error: 0.1082\n",
      "Epoch 26/90\n",
      "48/48 [==============================] - 0s 520us/sample - loss: 0.0126 - root_mean_squared_error: 0.1122\n",
      "Epoch 27/90\n",
      "48/48 [==============================] - 0s 396us/sample - loss: 0.0132 - root_mean_squared_error: 0.1148\n",
      "Epoch 28/90\n",
      "48/48 [==============================] - 0s 489us/sample - loss: 0.0132 - root_mean_squared_error: 0.1148\n",
      "Epoch 29/90\n",
      "48/48 [==============================] - 0s 434us/sample - loss: 0.0127 - root_mean_squared_error: 0.1128\n",
      "Epoch 30/90\n",
      "48/48 [==============================] - 0s 363us/sample - loss: 0.0119 - root_mean_squared_error: 0.1093\n",
      "Epoch 31/90\n",
      "48/48 [==============================] - 0s 404us/sample - loss: 0.0111 - root_mean_squared_error: 0.1056\n",
      "Epoch 32/90\n",
      "48/48 [==============================] - 0s 478us/sample - loss: 0.0106 - root_mean_squared_error: 0.1028\n",
      "Epoch 33/90\n",
      "48/48 [==============================] - 0s 455us/sample - loss: 0.0100 - root_mean_squared_error: 0.1001\n",
      "Epoch 34/90\n",
      "48/48 [==============================] - 0s 389us/sample - loss: 0.0098 - root_mean_squared_error: 0.0991\n",
      "Epoch 35/90\n",
      "48/48 [==============================] - 0s 483us/sample - loss: 0.0097 - root_mean_squared_error: 0.0985\n",
      "Epoch 36/90\n",
      "48/48 [==============================] - 0s 418us/sample - loss: 0.0097 - root_mean_squared_error: 0.0983\n",
      "Epoch 37/90\n",
      "48/48 [==============================] - 0s 380us/sample - loss: 0.0098 - root_mean_squared_error: 0.0990\n",
      "Epoch 38/90\n",
      "48/48 [==============================] - 0s 420us/sample - loss: 0.0098 - root_mean_squared_error: 0.0991\n",
      "Epoch 39/90\n",
      "48/48 [==============================] - 0s 381us/sample - loss: 0.0099 - root_mean_squared_error: 0.0996\n",
      "Epoch 40/90\n",
      "48/48 [==============================] - 0s 477us/sample - loss: 0.0100 - root_mean_squared_error: 0.0998\n",
      "Epoch 41/90\n",
      "48/48 [==============================] - 0s 437us/sample - loss: 0.0099 - root_mean_squared_error: 0.0997\n",
      "Epoch 42/90\n",
      "48/48 [==============================] - 0s 540us/sample - loss: 0.0099 - root_mean_squared_error: 0.0995\n",
      "Epoch 43/90\n",
      "48/48 [==============================] - 0s 447us/sample - loss: 0.0098 - root_mean_squared_error: 0.0991\n",
      "Epoch 44/90\n",
      "48/48 [==============================] - 0s 534us/sample - loss: 0.0097 - root_mean_squared_error: 0.0987\n",
      "Epoch 45/90\n",
      "48/48 [==============================] - 0s 419us/sample - loss: 0.0097 - root_mean_squared_error: 0.0984\n",
      "Epoch 46/90\n",
      "48/48 [==============================] - 0s 450us/sample - loss: 0.0096 - root_mean_squared_error: 0.0981\n",
      "Epoch 47/90\n",
      "48/48 [==============================] - 0s 583us/sample - loss: 0.0097 - root_mean_squared_error: 0.0983\n",
      "Epoch 48/90\n",
      "48/48 [==============================] - 0s 482us/sample - loss: 0.0097 - root_mean_squared_error: 0.0983\n",
      "Epoch 49/90\n",
      "48/48 [==============================] - 0s 517us/sample - loss: 0.0097 - root_mean_squared_error: 0.0984\n",
      "Epoch 50/90\n",
      "48/48 [==============================] - 0s 483us/sample - loss: 0.0097 - root_mean_squared_error: 0.0985\n",
      "Epoch 51/90\n",
      "48/48 [==============================] - 0s 435us/sample - loss: 0.0097 - root_mean_squared_error: 0.0986\n",
      "Epoch 52/90\n",
      "48/48 [==============================] - 0s 477us/sample - loss: 0.0097 - root_mean_squared_error: 0.0986\n",
      "Epoch 53/90\n",
      "48/48 [==============================] - 0s 439us/sample - loss: 0.0097 - root_mean_squared_error: 0.0986\n",
      "Epoch 54/90\n",
      "48/48 [==============================] - 0s 367us/sample - loss: 0.0097 - root_mean_squared_error: 0.0986\n",
      "Epoch 55/90\n",
      "48/48 [==============================] - 0s 516us/sample - loss: 0.0097 - root_mean_squared_error: 0.0984\n",
      "Epoch 56/90\n",
      "48/48 [==============================] - 0s 408us/sample - loss: 0.0097 - root_mean_squared_error: 0.0984\n",
      "Epoch 57/90\n",
      "48/48 [==============================] - 0s 383us/sample - loss: 0.0097 - root_mean_squared_error: 0.0984\n",
      "Epoch 58/90\n",
      "48/48 [==============================] - 0s 307us/sample - loss: 0.0096 - root_mean_squared_error: 0.0982\n",
      "Epoch 59/90\n",
      "48/48 [==============================] - 0s 445us/sample - loss: 0.0096 - root_mean_squared_error: 0.0982\n",
      "Epoch 60/90\n",
      "48/48 [==============================] - 0s 305us/sample - loss: 0.0096 - root_mean_squared_error: 0.0981\n",
      "Epoch 61/90\n",
      "48/48 [==============================] - 0s 450us/sample - loss: 0.0096 - root_mean_squared_error: 0.0981\n",
      "Epoch 62/90\n",
      "48/48 [==============================] - 0s 403us/sample - loss: 0.0096 - root_mean_squared_error: 0.0981\n",
      "Epoch 63/90\n",
      "48/48 [==============================] - 0s 369us/sample - loss: 0.0097 - root_mean_squared_error: 0.0982\n",
      "Epoch 64/90\n",
      "48/48 [==============================] - 0s 462us/sample - loss: 0.0096 - root_mean_squared_error: 0.0981\n",
      "Epoch 65/90\n",
      "48/48 [==============================] - 0s 418us/sample - loss: 0.0096 - root_mean_squared_error: 0.0982\n",
      "Epoch 66/90\n",
      "48/48 [==============================] - 0s 418us/sample - loss: 0.0096 - root_mean_squared_error: 0.0981\n",
      "Epoch 67/90\n",
      "48/48 [==============================] - 0s 311us/sample - loss: 0.0096 - root_mean_squared_error: 0.0981\n",
      "Epoch 68/90\n",
      "48/48 [==============================] - 0s 289us/sample - loss: 0.0096 - root_mean_squared_error: 0.0981\n",
      "Epoch 69/90\n",
      "48/48 [==============================] - 0s 361us/sample - loss: 0.0096 - root_mean_squared_error: 0.0981\n",
      "Epoch 70/90\n"
     ]
    },
    {
     "name": "stdout",
     "output_type": "stream",
     "text": [
      "48/48 [==============================] - 0s 374us/sample - loss: 0.0096 - root_mean_squared_error: 0.0981\n",
      "Epoch 71/90\n",
      "48/48 [==============================] - 0s 365us/sample - loss: 0.0096 - root_mean_squared_error: 0.0980\n",
      "Epoch 72/90\n",
      "48/48 [==============================] - 0s 385us/sample - loss: 0.0096 - root_mean_squared_error: 0.0980\n",
      "Epoch 73/90\n",
      "48/48 [==============================] - 0s 363us/sample - loss: 0.0096 - root_mean_squared_error: 0.0980\n",
      "Epoch 74/90\n",
      "48/48 [==============================] - 0s 302us/sample - loss: 0.0096 - root_mean_squared_error: 0.0980\n",
      "Epoch 75/90\n",
      "48/48 [==============================] - 0s 327us/sample - loss: 0.0096 - root_mean_squared_error: 0.0980\n",
      "Epoch 76/90\n",
      "48/48 [==============================] - 0s 374us/sample - loss: 0.0096 - root_mean_squared_error: 0.0980\n",
      "Epoch 77/90\n",
      "48/48 [==============================] - 0s 301us/sample - loss: 0.0096 - root_mean_squared_error: 0.0980\n",
      "Epoch 78/90\n",
      "48/48 [==============================] - 0s 333us/sample - loss: 0.0096 - root_mean_squared_error: 0.0980\n",
      "Epoch 79/90\n",
      "48/48 [==============================] - 0s 294us/sample - loss: 0.0096 - root_mean_squared_error: 0.0980\n",
      "Epoch 80/90\n",
      "48/48 [==============================] - 0s 332us/sample - loss: 0.0096 - root_mean_squared_error: 0.0980\n",
      "Epoch 81/90\n",
      "48/48 [==============================] - 0s 316us/sample - loss: 0.0096 - root_mean_squared_error: 0.0981\n",
      "Epoch 82/90\n",
      "48/48 [==============================] - 0s 313us/sample - loss: 0.0096 - root_mean_squared_error: 0.0979\n",
      "Epoch 83/90\n",
      "48/48 [==============================] - 0s 324us/sample - loss: 0.0096 - root_mean_squared_error: 0.0979\n",
      "Epoch 84/90\n",
      "48/48 [==============================] - 0s 341us/sample - loss: 0.0096 - root_mean_squared_error: 0.0979\n",
      "Epoch 85/90\n",
      "48/48 [==============================] - 0s 335us/sample - loss: 0.0096 - root_mean_squared_error: 0.0979\n",
      "Epoch 86/90\n",
      "48/48 [==============================] - 0s 347us/sample - loss: 0.0096 - root_mean_squared_error: 0.0979\n",
      "Epoch 87/90\n",
      "48/48 [==============================] - 0s 377us/sample - loss: 0.0096 - root_mean_squared_error: 0.0979\n",
      "Epoch 88/90\n",
      "48/48 [==============================] - 0s 441us/sample - loss: 0.0096 - root_mean_squared_error: 0.0979\n",
      "Epoch 89/90\n",
      "48/48 [==============================] - 0s 328us/sample - loss: 0.0096 - root_mean_squared_error: 0.0979\n",
      "Epoch 90/90\n",
      "48/48 [==============================] - 0s 384us/sample - loss: 0.0096 - root_mean_squared_error: 0.0978\n"
     ]
    },
    {
     "data": {
      "text/plain": [
       "<tensorflow.python.keras.callbacks.History at 0x7f85e5c78438>"
      ]
     },
     "execution_count": 88,
     "metadata": {},
     "output_type": "execute_result"
    }
   ],
   "source": [
    "tourism_model.fit(x_train,y_train,epochs=90)"
   ]
  },
  {
   "cell_type": "code",
   "execution_count": 89,
   "metadata": {},
   "outputs": [],
   "source": [
    "pridictions =tourism_model.predict(x_test).flatten()"
   ]
  },
  {
   "cell_type": "code",
   "execution_count": null,
   "metadata": {},
   "outputs": [],
   "source": []
  },
  {
   "cell_type": "code",
   "execution_count": 90,
   "metadata": {},
   "outputs": [
    {
     "name": "stderr",
     "output_type": "stream",
     "text": [
      "/home/mohamed/anaconda3/lib/python3.7/site-packages/matplotlib/cbook/__init__.py:1377: FutureWarning: Support for multi-dimensional indexing (e.g. `obj[:, None]`) is deprecated and will be removed in a future version.  Convert to a numpy array before indexing instead.\n",
      "  x[:, None]\n",
      "/home/mohamed/anaconda3/lib/python3.7/site-packages/matplotlib/axes/_base.py:237: FutureWarning: Support for multi-dimensional indexing (e.g. `obj[:, None]`) is deprecated and will be removed in a future version.  Convert to a numpy array before indexing instead.\n",
      "  x = x[:, np.newaxis]\n",
      "/home/mohamed/anaconda3/lib/python3.7/site-packages/matplotlib/cbook/__init__.py:1377: FutureWarning: Support for multi-dimensional indexing (e.g. `obj[:, None]`) is deprecated and will be removed in a future version.  Convert to a numpy array before indexing instead.\n",
      "  x[:, None]\n",
      "/home/mohamed/anaconda3/lib/python3.7/site-packages/matplotlib/axes/_base.py:237: FutureWarning: Support for multi-dimensional indexing (e.g. `obj[:, None]`) is deprecated and will be removed in a future version.  Convert to a numpy array before indexing instead.\n",
      "  x = x[:, np.newaxis]\n"
     ]
    },
    {
     "data": {
      "image/png": "[encoded data removed]",
      "text/plain": [
       "<Figure size 1440x1008 with 1 Axes>"
      ]
     },
     "metadata": {
      "needs_background": "light"
     },
     "output_type": "display_data"
    }
   ],
   "source": [
    "\n",
    "plt.plot(data.index[52:], y_test,label='actual')\n",
    "plt.plot(data.index[52:],pridictions ,label=\"forcasting\")\n",
    "\n",
    "plt.title('forcatsing tourism bookings ')\n",
    "plt.xlabel('month')\n",
    "plt.ylabel('perecentage')\n",
    "plt.rcParams[\"figure.figsize\"] = (20,14)\n",
    "plt.legend()\n",
    "plt.show()"
   ]
  },
  {
   "cell_type": "markdown",
   "metadata": {},
   "source": [
    "# For buisness bookings "
   ]
  },
  {
   "cell_type": "code",
   "execution_count": 37,
   "metadata": {},
   "outputs": [],
   "source": [
    "buisness_model=Sequential()\n",
    "buisness_model.add(InputLayer((3,1)))\n",
    "buisness_model.add(LSTM(32))\n",
    "\n",
    "\n",
    "buisness_model.add(Dense(8,'relu'))\n",
    "buisness_model.add(Dense(1))"
   ]
  },
  {
   "cell_type": "code",
   "execution_count": 38,
   "metadata": {},
   "outputs": [
    {
     "name": "stdout",
     "output_type": "stream",
     "text": [
      "Model: \"sequential_2\"\n",
      "_________________________________________________________________\n",
      "Layer (type)                 Output Shape              Param #   \n",
      "=================================================================\n",
      "lstm_2 (LSTM)                (None, 32)                4352      \n",
      "_________________________________________________________________\n",
      "dense_5 (Dense)              (None, 8)                 264       \n",
      "_________________________________________________________________\n",
      "dense_6 (Dense)              (None, 1)                 9         \n",
      "=================================================================\n",
      "Total params: 4,625\n",
      "Trainable params: 4,625\n",
      "Non-trainable params: 0\n",
      "_________________________________________________________________\n"
     ]
    }
   ],
   "source": [
    "buisness_model.summary()"
   ]
  },
  {
   "cell_type": "code",
   "execution_count": 39,
   "metadata": {},
   "outputs": [],
   "source": [
    "X_b,Y_b=data_to_x_y(business,3)"
   ]
  },
  {
   "cell_type": "code",
   "execution_count": 40,
   "metadata": {},
   "outputs": [
    {
     "data": {
      "text/plain": [
       "(80, 3, 1)"
      ]
     },
     "execution_count": 40,
     "metadata": {},
     "output_type": "execute_result"
    }
   ],
   "source": [
    "X_b.shape"
   ]
  },
  {
   "cell_type": "code",
   "execution_count": 41,
   "metadata": {},
   "outputs": [
    {
     "data": {
      "text/plain": [
       "48.0"
      ]
     },
     "execution_count": 41,
     "metadata": {},
     "output_type": "execute_result"
    }
   ],
   "source": [
    "0.6*80# 60% of data points to train model "
   ]
  },
  {
   "cell_type": "code",
   "execution_count": null,
   "metadata": {},
   "outputs": [],
   "source": []
  },
  {
   "cell_type": "code",
   "execution_count": 42,
   "metadata": {},
   "outputs": [],
   "source": [
    "x_train_b,y_train_b=X_b[:48],Y_b[:48]\n",
    "x_test_b,y_test_b=X_b[48:],Y_b[48:]"
   ]
  },
  {
   "cell_type": "code",
   "execution_count": 65,
   "metadata": {},
   "outputs": [],
   "source": [
    "buisness_model.compile(loss=MeanSquaredError(),optimizer=Adam(learning_rate=0.025),metrics=[RootMeanSquaredError()])"
   ]
  },
  {
   "cell_type": "code",
   "execution_count": 66,
   "metadata": {},
   "outputs": [
    {
     "name": "stdout",
     "output_type": "stream",
     "text": [
      "Epoch 1/200\n",
      "48/48 [==============================] - 1s 11ms/sample - loss: 0.0044 - root_mean_squared_error: 0.0662\n",
      "Epoch 2/200\n",
      "48/48 [==============================] - 0s 446us/sample - loss: 0.0034 - root_mean_squared_error: 0.0579\n",
      "Epoch 3/200\n",
      "48/48 [==============================] - 0s 365us/sample - loss: 0.0051 - root_mean_squared_error: 0.0712\n",
      "Epoch 4/200\n",
      "48/48 [==============================] - 0s 328us/sample - loss: 0.0042 - root_mean_squared_error: 0.0652\n",
      "Epoch 5/200\n",
      "48/48 [==============================] - 0s 384us/sample - loss: 0.0038 - root_mean_squared_error: 0.0613\n",
      "Epoch 6/200\n",
      "48/48 [==============================] - 0s 328us/sample - loss: 0.0042 - root_mean_squared_error: 0.0647\n",
      "Epoch 7/200\n",
      "48/48 [==============================] - 0s 345us/sample - loss: 0.0038 - root_mean_squared_error: 0.0613\n",
      "Epoch 8/200\n",
      "48/48 [==============================] - 0s 369us/sample - loss: 0.0039 - root_mean_squared_error: 0.0623\n",
      "Epoch 9/200\n",
      "48/48 [==============================] - 0s 437us/sample - loss: 0.0040 - root_mean_squared_error: 0.0632\n",
      "Epoch 10/200\n",
      "48/48 [==============================] - 0s 347us/sample - loss: 0.0039 - root_mean_squared_error: 0.0621\n",
      "Epoch 11/200\n",
      "48/48 [==============================] - 0s 272us/sample - loss: 0.0039 - root_mean_squared_error: 0.0625\n",
      "Epoch 12/200\n",
      "48/48 [==============================] - 0s 389us/sample - loss: 0.0038 - root_mean_squared_error: 0.0613\n",
      "Epoch 13/200\n",
      "48/48 [==============================] - 0s 239us/sample - loss: 0.0037 - root_mean_squared_error: 0.0607\n",
      "Epoch 14/200\n",
      "48/48 [==============================] - 0s 277us/sample - loss: 0.0039 - root_mean_squared_error: 0.0624\n",
      "Epoch 15/200\n",
      "48/48 [==============================] - 0s 325us/sample - loss: 0.0039 - root_mean_squared_error: 0.0628\n",
      "Epoch 16/200\n",
      "48/48 [==============================] - 0s 401us/sample - loss: 0.0038 - root_mean_squared_error: 0.0615\n",
      "Epoch 17/200\n",
      "48/48 [==============================] - 0s 326us/sample - loss: 0.0036 - root_mean_squared_error: 0.0602\n",
      "Epoch 18/200\n",
      "48/48 [==============================] - 0s 328us/sample - loss: 0.0038 - root_mean_squared_error: 0.0615\n",
      "Epoch 19/200\n",
      "48/48 [==============================] - 0s 277us/sample - loss: 0.0038 - root_mean_squared_error: 0.0620\n",
      "Epoch 20/200\n",
      "48/48 [==============================] - 0s 345us/sample - loss: 0.0040 - root_mean_squared_error: 0.0629\n",
      "Epoch 21/200\n",
      "48/48 [==============================] - 0s 347us/sample - loss: 0.0037 - root_mean_squared_error: 0.0606\n",
      "Epoch 22/200\n",
      "48/48 [==============================] - 0s 401us/sample - loss: 0.0039 - root_mean_squared_error: 0.0621\n",
      "Epoch 23/200\n",
      "48/48 [==============================] - 0s 327us/sample - loss: 0.0037 - root_mean_squared_error: 0.0609\n",
      "Epoch 24/200\n",
      "48/48 [==============================] - 0s 477us/sample - loss: 0.0037 - root_mean_squared_error: 0.0608\n",
      "Epoch 25/200\n",
      "48/48 [==============================] - 0s 365us/sample - loss: 0.0038 - root_mean_squared_error: 0.0616\n",
      "Epoch 26/200\n",
      "48/48 [==============================] - 0s 396us/sample - loss: 0.0037 - root_mean_squared_error: 0.0605\n",
      "Epoch 27/200\n",
      "48/48 [==============================] - 0s 305us/sample - loss: 0.0036 - root_mean_squared_error: 0.0601\n",
      "Epoch 28/200\n",
      "48/48 [==============================] - 0s 391us/sample - loss: 0.0036 - root_mean_squared_error: 0.0603\n",
      "Epoch 29/200\n",
      "48/48 [==============================] - 0s 449us/sample - loss: 0.0036 - root_mean_squared_error: 0.0600\n",
      "Epoch 30/200\n",
      "48/48 [==============================] - 0s 465us/sample - loss: 0.0037 - root_mean_squared_error: 0.0605\n",
      "Epoch 31/200\n",
      "48/48 [==============================] - 0s 380us/sample - loss: 0.0036 - root_mean_squared_error: 0.0603\n",
      "Epoch 32/200\n",
      "48/48 [==============================] - 0s 490us/sample - loss: 0.0037 - root_mean_squared_error: 0.0609\n",
      "Epoch 33/200\n",
      "48/48 [==============================] - 0s 412us/sample - loss: 0.0036 - root_mean_squared_error: 0.0602\n",
      "Epoch 34/200\n",
      "48/48 [==============================] - 0s 300us/sample - loss: 0.0036 - root_mean_squared_error: 0.0604\n",
      "Epoch 35/200\n",
      "48/48 [==============================] - 0s 317us/sample - loss: 0.0036 - root_mean_squared_error: 0.0600\n",
      "Epoch 36/200\n",
      "48/48 [==============================] - 0s 395us/sample - loss: 0.0036 - root_mean_squared_error: 0.0604\n",
      "Epoch 37/200\n",
      "48/48 [==============================] - 0s 374us/sample - loss: 0.0037 - root_mean_squared_error: 0.0606\n",
      "Epoch 38/200\n",
      "48/48 [==============================] - 0s 384us/sample - loss: 0.0036 - root_mean_squared_error: 0.0599\n",
      "Epoch 39/200\n",
      "48/48 [==============================] - 0s 390us/sample - loss: 0.0036 - root_mean_squared_error: 0.0601\n",
      "Epoch 40/200\n",
      "48/48 [==============================] - 0s 396us/sample - loss: 0.0036 - root_mean_squared_error: 0.0604\n",
      "Epoch 41/200\n",
      "48/48 [==============================] - 0s 415us/sample - loss: 0.0037 - root_mean_squared_error: 0.0608\n",
      "Epoch 42/200\n",
      "48/48 [==============================] - 0s 349us/sample - loss: 0.0036 - root_mean_squared_error: 0.0604\n",
      "Epoch 43/200\n",
      "48/48 [==============================] - 0s 287us/sample - loss: 0.0035 - root_mean_squared_error: 0.0595\n",
      "Epoch 44/200\n",
      "48/48 [==============================] - 0s 365us/sample - loss: 0.0036 - root_mean_squared_error: 0.0603\n",
      "Epoch 45/200\n",
      "48/48 [==============================] - 0s 402us/sample - loss: 0.0035 - root_mean_squared_error: 0.0595\n",
      "Epoch 46/200\n",
      "48/48 [==============================] - 0s 381us/sample - loss: 0.0037 - root_mean_squared_error: 0.0609\n",
      "Epoch 47/200\n",
      "48/48 [==============================] - 0s 386us/sample - loss: 0.0037 - root_mean_squared_error: 0.0606\n",
      "Epoch 48/200\n",
      "48/48 [==============================] - 0s 451us/sample - loss: 0.0035 - root_mean_squared_error: 0.0594\n",
      "Epoch 49/200\n",
      "48/48 [==============================] - 0s 356us/sample - loss: 0.0036 - root_mean_squared_error: 0.0598\n",
      "Epoch 50/200\n",
      "48/48 [==============================] - 0s 332us/sample - loss: 0.0036 - root_mean_squared_error: 0.0598\n",
      "Epoch 51/200\n",
      "48/48 [==============================] - 0s 329us/sample - loss: 0.0035 - root_mean_squared_error: 0.0591\n",
      "Epoch 52/200\n",
      "48/48 [==============================] - 0s 382us/sample - loss: 0.0036 - root_mean_squared_error: 0.0603\n",
      "Epoch 53/200\n",
      "48/48 [==============================] - 0s 359us/sample - loss: 0.0037 - root_mean_squared_error: 0.0605\n",
      "Epoch 54/200\n",
      "48/48 [==============================] - 0s 306us/sample - loss: 0.0035 - root_mean_squared_error: 0.0589\n",
      "Epoch 55/200\n",
      "48/48 [==============================] - 0s 396us/sample - loss: 0.0037 - root_mean_squared_error: 0.0606\n",
      "Epoch 56/200\n",
      "48/48 [==============================] - 0s 517us/sample - loss: 0.0038 - root_mean_squared_error: 0.0618\n",
      "Epoch 57/200\n",
      "48/48 [==============================] - 0s 337us/sample - loss: 0.0037 - root_mean_squared_error: 0.0606\n",
      "Epoch 58/200\n",
      "48/48 [==============================] - 0s 362us/sample - loss: 0.0037 - root_mean_squared_error: 0.0606\n",
      "Epoch 59/200\n",
      "48/48 [==============================] - 0s 307us/sample - loss: 0.0035 - root_mean_squared_error: 0.0594\n",
      "Epoch 60/200\n",
      "48/48 [==============================] - 0s 303us/sample - loss: 0.0036 - root_mean_squared_error: 0.0603\n",
      "Epoch 61/200\n",
      "48/48 [==============================] - 0s 348us/sample - loss: 0.0037 - root_mean_squared_error: 0.0608\n",
      "Epoch 62/200\n",
      "48/48 [==============================] - 0s 278us/sample - loss: 0.0036 - root_mean_squared_error: 0.0597\n",
      "Epoch 63/200\n",
      "48/48 [==============================] - 0s 347us/sample - loss: 0.0036 - root_mean_squared_error: 0.0601\n",
      "Epoch 64/200\n",
      "48/48 [==============================] - 0s 372us/sample - loss: 0.0036 - root_mean_squared_error: 0.0598\n",
      "Epoch 65/200\n",
      "48/48 [==============================] - 0s 450us/sample - loss: 0.0036 - root_mean_squared_error: 0.0603\n",
      "Epoch 66/200\n",
      "48/48 [==============================] - 0s 442us/sample - loss: 0.0037 - root_mean_squared_error: 0.0606\n",
      "Epoch 67/200\n",
      "48/48 [==============================] - 0s 319us/sample - loss: 0.0035 - root_mean_squared_error: 0.0589\n",
      "Epoch 68/200\n",
      "48/48 [==============================] - 0s 308us/sample - loss: 0.0035 - root_mean_squared_error: 0.0594\n",
      "Epoch 69/200\n",
      "48/48 [==============================] - 0s 348us/sample - loss: 0.0035 - root_mean_squared_error: 0.0591\n"
     ]
    },
    {
     "name": "stdout",
     "output_type": "stream",
     "text": [
      "Epoch 70/200\n",
      "48/48 [==============================] - 0s 341us/sample - loss: 0.0035 - root_mean_squared_error: 0.0589\n",
      "Epoch 71/200\n",
      "48/48 [==============================] - 0s 289us/sample - loss: 0.0035 - root_mean_squared_error: 0.0596\n",
      "Epoch 72/200\n",
      "48/48 [==============================] - 0s 355us/sample - loss: 0.0035 - root_mean_squared_error: 0.0592\n",
      "Epoch 73/200\n",
      "48/48 [==============================] - 0s 317us/sample - loss: 0.0035 - root_mean_squared_error: 0.0591\n",
      "Epoch 74/200\n",
      "48/48 [==============================] - 0s 348us/sample - loss: 0.0035 - root_mean_squared_error: 0.0593\n",
      "Epoch 75/200\n",
      "48/48 [==============================] - 0s 283us/sample - loss: 0.0036 - root_mean_squared_error: 0.0598\n",
      "Epoch 76/200\n",
      "48/48 [==============================] - 0s 351us/sample - loss: 0.0035 - root_mean_squared_error: 0.0593\n",
      "Epoch 77/200\n",
      "48/48 [==============================] - 0s 315us/sample - loss: 0.0035 - root_mean_squared_error: 0.0589\n",
      "Epoch 78/200\n",
      "48/48 [==============================] - 0s 267us/sample - loss: 0.0035 - root_mean_squared_error: 0.0594\n",
      "Epoch 79/200\n",
      "48/48 [==============================] - 0s 306us/sample - loss: 0.0034 - root_mean_squared_error: 0.0587\n",
      "Epoch 80/200\n",
      "48/48 [==============================] - 0s 296us/sample - loss: 0.0036 - root_mean_squared_error: 0.0599\n",
      "Epoch 81/200\n",
      "48/48 [==============================] - 0s 318us/sample - loss: 0.0035 - root_mean_squared_error: 0.0592\n",
      "Epoch 82/200\n",
      "48/48 [==============================] - 0s 328us/sample - loss: 0.0035 - root_mean_squared_error: 0.0589\n",
      "Epoch 83/200\n",
      "48/48 [==============================] - 0s 323us/sample - loss: 0.0035 - root_mean_squared_error: 0.0592\n",
      "Epoch 84/200\n",
      "48/48 [==============================] - 0s 310us/sample - loss: 0.0034 - root_mean_squared_error: 0.0585\n",
      "Epoch 85/200\n",
      "48/48 [==============================] - 0s 335us/sample - loss: 0.0034 - root_mean_squared_error: 0.0584\n",
      "Epoch 86/200\n",
      "48/48 [==============================] - 0s 225us/sample - loss: 0.0035 - root_mean_squared_error: 0.0588\n",
      "Epoch 87/200\n",
      "48/48 [==============================] - 0s 289us/sample - loss: 0.0034 - root_mean_squared_error: 0.0587\n",
      "Epoch 88/200\n",
      "48/48 [==============================] - 0s 353us/sample - loss: 0.0034 - root_mean_squared_error: 0.0582\n",
      "Epoch 89/200\n",
      "48/48 [==============================] - 0s 386us/sample - loss: 0.0034 - root_mean_squared_error: 0.0584\n",
      "Epoch 90/200\n",
      "48/48 [==============================] - 0s 232us/sample - loss: 0.0035 - root_mean_squared_error: 0.0587\n",
      "Epoch 91/200\n",
      "48/48 [==============================] - 0s 286us/sample - loss: 0.0035 - root_mean_squared_error: 0.0589\n",
      "Epoch 92/200\n",
      "48/48 [==============================] - 0s 314us/sample - loss: 0.0034 - root_mean_squared_error: 0.0583\n",
      "Epoch 93/200\n",
      "48/48 [==============================] - 0s 305us/sample - loss: 0.0034 - root_mean_squared_error: 0.0584\n",
      "Epoch 94/200\n",
      "48/48 [==============================] - 0s 357us/sample - loss: 0.0033 - root_mean_squared_error: 0.0579\n",
      "Epoch 95/200\n",
      "48/48 [==============================] - 0s 269us/sample - loss: 0.0036 - root_mean_squared_error: 0.0602\n",
      "Epoch 96/200\n",
      "48/48 [==============================] - 0s 265us/sample - loss: 0.0035 - root_mean_squared_error: 0.0592\n",
      "Epoch 97/200\n",
      "48/48 [==============================] - 0s 322us/sample - loss: 0.0034 - root_mean_squared_error: 0.0584\n",
      "Epoch 98/200\n",
      "48/48 [==============================] - 0s 394us/sample - loss: 0.0034 - root_mean_squared_error: 0.0585\n",
      "Epoch 99/200\n",
      "48/48 [==============================] - 0s 237us/sample - loss: 0.0034 - root_mean_squared_error: 0.0581\n",
      "Epoch 100/200\n",
      "48/48 [==============================] - 0s 309us/sample - loss: 0.0034 - root_mean_squared_error: 0.0583\n",
      "Epoch 101/200\n",
      "48/48 [==============================] - 0s 358us/sample - loss: 0.0034 - root_mean_squared_error: 0.0585\n",
      "Epoch 102/200\n",
      "48/48 [==============================] - 0s 370us/sample - loss: 0.0035 - root_mean_squared_error: 0.0594\n",
      "Epoch 103/200\n",
      "48/48 [==============================] - 0s 341us/sample - loss: 0.0033 - root_mean_squared_error: 0.0577\n",
      "Epoch 104/200\n",
      "48/48 [==============================] - 0s 222us/sample - loss: 0.0038 - root_mean_squared_error: 0.0617\n",
      "Epoch 105/200\n",
      "48/48 [==============================] - 0s 292us/sample - loss: 0.0035 - root_mean_squared_error: 0.0593\n",
      "Epoch 106/200\n",
      "48/48 [==============================] - 0s 241us/sample - loss: 0.0035 - root_mean_squared_error: 0.0591\n",
      "Epoch 107/200\n",
      "48/48 [==============================] - 0s 433us/sample - loss: 0.0036 - root_mean_squared_error: 0.0602\n",
      "Epoch 108/200\n",
      "48/48 [==============================] - 0s 265us/sample - loss: 0.0035 - root_mean_squared_error: 0.0592\n",
      "Epoch 109/200\n",
      "48/48 [==============================] - 0s 284us/sample - loss: 0.0035 - root_mean_squared_error: 0.0592\n",
      "Epoch 110/200\n",
      "48/48 [==============================] - 0s 270us/sample - loss: 0.0036 - root_mean_squared_error: 0.0601\n",
      "Epoch 111/200\n",
      "48/48 [==============================] - 0s 374us/sample - loss: 0.0035 - root_mean_squared_error: 0.0592\n",
      "Epoch 112/200\n",
      "48/48 [==============================] - 0s 314us/sample - loss: 0.0036 - root_mean_squared_error: 0.0596\n",
      "Epoch 113/200\n",
      "48/48 [==============================] - 0s 313us/sample - loss: 0.0034 - root_mean_squared_error: 0.0584\n",
      "Epoch 114/200\n",
      "48/48 [==============================] - 0s 327us/sample - loss: 0.0034 - root_mean_squared_error: 0.0581\n",
      "Epoch 115/200\n",
      "48/48 [==============================] - 0s 272us/sample - loss: 0.0036 - root_mean_squared_error: 0.0600\n",
      "Epoch 116/200\n",
      "48/48 [==============================] - 0s 265us/sample - loss: 0.0035 - root_mean_squared_error: 0.0595\n",
      "Epoch 117/200\n",
      "48/48 [==============================] - 0s 253us/sample - loss: 0.0035 - root_mean_squared_error: 0.0594\n",
      "Epoch 118/200\n",
      "48/48 [==============================] - 0s 263us/sample - loss: 0.0035 - root_mean_squared_error: 0.0591\n",
      "Epoch 119/200\n",
      "48/48 [==============================] - 0s 351us/sample - loss: 0.0034 - root_mean_squared_error: 0.0587\n",
      "Epoch 120/200\n",
      "48/48 [==============================] - 0s 329us/sample - loss: 0.0035 - root_mean_squared_error: 0.0594\n",
      "Epoch 121/200\n",
      "48/48 [==============================] - 0s 327us/sample - loss: 0.0034 - root_mean_squared_error: 0.0581\n",
      "Epoch 122/200\n",
      "48/48 [==============================] - 0s 309us/sample - loss: 0.0034 - root_mean_squared_error: 0.0584\n",
      "Epoch 123/200\n",
      "48/48 [==============================] - 0s 399us/sample - loss: 0.0033 - root_mean_squared_error: 0.0578\n",
      "Epoch 124/200\n",
      "48/48 [==============================] - 0s 309us/sample - loss: 0.0033 - root_mean_squared_error: 0.0575\n",
      "Epoch 125/200\n",
      "48/48 [==============================] - 0s 310us/sample - loss: 0.0034 - root_mean_squared_error: 0.0581\n",
      "Epoch 126/200\n",
      "48/48 [==============================] - 0s 290us/sample - loss: 0.0033 - root_mean_squared_error: 0.0576\n",
      "Epoch 127/200\n",
      "48/48 [==============================] - 0s 412us/sample - loss: 0.0033 - root_mean_squared_error: 0.0577\n",
      "Epoch 128/200\n",
      "48/48 [==============================] - 0s 345us/sample - loss: 0.0033 - root_mean_squared_error: 0.0571\n",
      "Epoch 129/200\n",
      "48/48 [==============================] - 0s 409us/sample - loss: 0.0032 - root_mean_squared_error: 0.0563\n",
      "Epoch 130/200\n",
      "48/48 [==============================] - 0s 407us/sample - loss: 0.0032 - root_mean_squared_error: 0.0566\n",
      "Epoch 131/200\n",
      "48/48 [==============================] - 0s 421us/sample - loss: 0.0032 - root_mean_squared_error: 0.0566\n",
      "Epoch 132/200\n",
      "48/48 [==============================] - 0s 308us/sample - loss: 0.0034 - root_mean_squared_error: 0.0580\n",
      "Epoch 133/200\n",
      "48/48 [==============================] - 0s 313us/sample - loss: 0.0030 - root_mean_squared_error: 0.0551\n",
      "Epoch 134/200\n",
      "48/48 [==============================] - 0s 279us/sample - loss: 0.0031 - root_mean_squared_error: 0.0553\n",
      "Epoch 135/200\n",
      "48/48 [==============================] - 0s 270us/sample - loss: 0.0030 - root_mean_squared_error: 0.0547\n",
      "Epoch 136/200\n",
      "48/48 [==============================] - 0s 413us/sample - loss: 0.0030 - root_mean_squared_error: 0.0548\n",
      "Epoch 137/200\n",
      "48/48 [==============================] - 0s 417us/sample - loss: 0.0029 - root_mean_squared_error: 0.0541\n",
      "Epoch 138/200\n"
     ]
    },
    {
     "name": "stdout",
     "output_type": "stream",
     "text": [
      "48/48 [==============================] - 0s 330us/sample - loss: 0.0030 - root_mean_squared_error: 0.0544\n",
      "Epoch 139/200\n",
      "48/48 [==============================] - 0s 355us/sample - loss: 0.0027 - root_mean_squared_error: 0.0524\n",
      "Epoch 140/200\n",
      "48/48 [==============================] - 0s 343us/sample - loss: 0.0030 - root_mean_squared_error: 0.0551\n",
      "Epoch 141/200\n",
      "48/48 [==============================] - 0s 384us/sample - loss: 0.0028 - root_mean_squared_error: 0.0532\n",
      "Epoch 142/200\n",
      "48/48 [==============================] - 0s 304us/sample - loss: 0.0032 - root_mean_squared_error: 0.0565\n",
      "Epoch 143/200\n",
      "48/48 [==============================] - 0s 323us/sample - loss: 0.0029 - root_mean_squared_error: 0.0543\n",
      "Epoch 144/200\n",
      "48/48 [==============================] - 0s 275us/sample - loss: 0.0031 - root_mean_squared_error: 0.0556\n",
      "Epoch 145/200\n",
      "48/48 [==============================] - 0s 268us/sample - loss: 0.0032 - root_mean_squared_error: 0.0569\n",
      "Epoch 146/200\n",
      "48/48 [==============================] - 0s 319us/sample - loss: 0.0029 - root_mean_squared_error: 0.0534\n",
      "Epoch 147/200\n",
      "48/48 [==============================] - 0s 291us/sample - loss: 0.0029 - root_mean_squared_error: 0.0541\n",
      "Epoch 148/200\n",
      "48/48 [==============================] - 0s 262us/sample - loss: 0.0029 - root_mean_squared_error: 0.0534\n",
      "Epoch 149/200\n",
      "48/48 [==============================] - 0s 354us/sample - loss: 0.0028 - root_mean_squared_error: 0.0529\n",
      "Epoch 150/200\n",
      "48/48 [==============================] - 0s 353us/sample - loss: 0.0028 - root_mean_squared_error: 0.0525\n",
      "Epoch 151/200\n",
      "48/48 [==============================] - 0s 284us/sample - loss: 0.0028 - root_mean_squared_error: 0.0528\n",
      "Epoch 152/200\n",
      "48/48 [==============================] - 0s 296us/sample - loss: 0.0026 - root_mean_squared_error: 0.0510\n",
      "Epoch 153/200\n",
      "48/48 [==============================] - 0s 321us/sample - loss: 0.0028 - root_mean_squared_error: 0.0529\n",
      "Epoch 154/200\n",
      "48/48 [==============================] - 0s 242us/sample - loss: 0.0028 - root_mean_squared_error: 0.0532\n",
      "Epoch 155/200\n",
      "48/48 [==============================] - 0s 325us/sample - loss: 0.0028 - root_mean_squared_error: 0.0532\n",
      "Epoch 156/200\n",
      "48/48 [==============================] - 0s 282us/sample - loss: 0.0031 - root_mean_squared_error: 0.0554\n",
      "Epoch 157/200\n",
      "48/48 [==============================] - 0s 336us/sample - loss: 0.0025 - root_mean_squared_error: 0.0504\n",
      "Epoch 158/200\n",
      "48/48 [==============================] - 0s 337us/sample - loss: 0.0028 - root_mean_squared_error: 0.0525\n",
      "Epoch 159/200\n",
      "48/48 [==============================] - 0s 263us/sample - loss: 0.0027 - root_mean_squared_error: 0.0519\n",
      "Epoch 160/200\n",
      "48/48 [==============================] - 0s 340us/sample - loss: 0.0025 - root_mean_squared_error: 0.0500\n",
      "Epoch 161/200\n",
      "48/48 [==============================] - 0s 298us/sample - loss: 0.0028 - root_mean_squared_error: 0.0532\n",
      "Epoch 162/200\n",
      "48/48 [==============================] - 0s 326us/sample - loss: 0.0026 - root_mean_squared_error: 0.0513\n",
      "Epoch 163/200\n",
      "48/48 [==============================] - 0s 326us/sample - loss: 0.0026 - root_mean_squared_error: 0.0509\n",
      "Epoch 164/200\n",
      "48/48 [==============================] - 0s 339us/sample - loss: 0.0028 - root_mean_squared_error: 0.0532\n",
      "Epoch 165/200\n",
      "48/48 [==============================] - 0s 341us/sample - loss: 0.0027 - root_mean_squared_error: 0.0523\n",
      "Epoch 166/200\n",
      "48/48 [==============================] - 0s 379us/sample - loss: 0.0024 - root_mean_squared_error: 0.0493\n",
      "Epoch 167/200\n",
      "48/48 [==============================] - 0s 288us/sample - loss: 0.0025 - root_mean_squared_error: 0.0501\n",
      "Epoch 168/200\n",
      "48/48 [==============================] - 0s 291us/sample - loss: 0.0025 - root_mean_squared_error: 0.0497\n",
      "Epoch 169/200\n",
      "48/48 [==============================] - 0s 273us/sample - loss: 0.0024 - root_mean_squared_error: 0.0492\n",
      "Epoch 170/200\n",
      "48/48 [==============================] - 0s 397us/sample - loss: 0.0025 - root_mean_squared_error: 0.0503\n",
      "Epoch 171/200\n",
      "48/48 [==============================] - 0s 390us/sample - loss: 0.0024 - root_mean_squared_error: 0.0493\n",
      "Epoch 172/200\n",
      "48/48 [==============================] - 0s 332us/sample - loss: 0.0023 - root_mean_squared_error: 0.0476\n",
      "Epoch 173/200\n",
      "48/48 [==============================] - 0s 373us/sample - loss: 0.0025 - root_mean_squared_error: 0.0498\n",
      "Epoch 174/200\n",
      "48/48 [==============================] - 0s 376us/sample - loss: 0.0022 - root_mean_squared_error: 0.0472\n",
      "Epoch 175/200\n",
      "48/48 [==============================] - 0s 338us/sample - loss: 0.0026 - root_mean_squared_error: 0.0508\n",
      "Epoch 176/200\n",
      "48/48 [==============================] - 0s 354us/sample - loss: 0.0022 - root_mean_squared_error: 0.0473\n",
      "Epoch 177/200\n",
      "48/48 [==============================] - 0s 312us/sample - loss: 0.0025 - root_mean_squared_error: 0.0500\n",
      "Epoch 178/200\n",
      "48/48 [==============================] - 0s 367us/sample - loss: 0.0024 - root_mean_squared_error: 0.0485\n",
      "Epoch 179/200\n",
      "48/48 [==============================] - 0s 289us/sample - loss: 0.0022 - root_mean_squared_error: 0.0471\n",
      "Epoch 180/200\n",
      "48/48 [==============================] - 0s 319us/sample - loss: 0.0024 - root_mean_squared_error: 0.0486\n",
      "Epoch 181/200\n",
      "48/48 [==============================] - 0s 308us/sample - loss: 0.0023 - root_mean_squared_error: 0.0476\n",
      "Epoch 182/200\n",
      "48/48 [==============================] - 0s 345us/sample - loss: 0.0022 - root_mean_squared_error: 0.0467\n",
      "Epoch 183/200\n",
      "48/48 [==============================] - 0s 339us/sample - loss: 0.0022 - root_mean_squared_error: 0.0470\n",
      "Epoch 184/200\n",
      "48/48 [==============================] - 0s 366us/sample - loss: 0.0023 - root_mean_squared_error: 0.0476\n",
      "Epoch 185/200\n",
      "48/48 [==============================] - 0s 284us/sample - loss: 0.0020 - root_mean_squared_error: 0.0448\n",
      "Epoch 186/200\n",
      "48/48 [==============================] - 0s 321us/sample - loss: 0.0021 - root_mean_squared_error: 0.0454\n",
      "Epoch 187/200\n",
      "48/48 [==============================] - 0s 303us/sample - loss: 0.0022 - root_mean_squared_error: 0.0467\n",
      "Epoch 188/200\n",
      "48/48 [==============================] - 0s 332us/sample - loss: 0.0020 - root_mean_squared_error: 0.0450\n",
      "Epoch 189/200\n",
      "48/48 [==============================] - 0s 254us/sample - loss: 0.0021 - root_mean_squared_error: 0.0454\n",
      "Epoch 190/200\n",
      "48/48 [==============================] - 0s 249us/sample - loss: 0.0021 - root_mean_squared_error: 0.0453\n",
      "Epoch 191/200\n",
      "48/48 [==============================] - 0s 311us/sample - loss: 0.0023 - root_mean_squared_error: 0.0477\n",
      "Epoch 192/200\n",
      "48/48 [==============================] - 0s 263us/sample - loss: 0.0021 - root_mean_squared_error: 0.0458\n",
      "Epoch 193/200\n",
      "48/48 [==============================] - 0s 345us/sample - loss: 0.0023 - root_mean_squared_error: 0.0478\n",
      "Epoch 194/200\n",
      "48/48 [==============================] - 0s 318us/sample - loss: 0.0020 - root_mean_squared_error: 0.0450\n",
      "Epoch 195/200\n",
      "48/48 [==============================] - 0s 316us/sample - loss: 0.0022 - root_mean_squared_error: 0.0466\n",
      "Epoch 196/200\n",
      "48/48 [==============================] - 0s 383us/sample - loss: 0.0019 - root_mean_squared_error: 0.0440\n",
      "Epoch 197/200\n",
      "48/48 [==============================] - 0s 331us/sample - loss: 0.0019 - root_mean_squared_error: 0.0436\n",
      "Epoch 198/200\n",
      "48/48 [==============================] - 0s 298us/sample - loss: 0.0018 - root_mean_squared_error: 0.0430\n",
      "Epoch 199/200\n",
      "48/48 [==============================] - 0s 335us/sample - loss: 0.0019 - root_mean_squared_error: 0.0439\n",
      "Epoch 200/200\n",
      "48/48 [==============================] - 0s 365us/sample - loss: 0.0021 - root_mean_squared_error: 0.0455\n"
     ]
    },
    {
     "data": {
      "text/plain": [
       "<tensorflow.python.keras.callbacks.History at 0x7f85e7b7f978>"
      ]
     },
     "execution_count": 66,
     "metadata": {},
     "output_type": "execute_result"
    }
   ],
   "source": [
    "buisness_model.fit(x_train_b,y_train_b,epochs=200)"
   ]
  },
  {
   "cell_type": "code",
   "execution_count": 67,
   "metadata": {},
   "outputs": [],
   "source": [
    "pridictions_b =buisness_model.predict(x_test_b).flatten()"
   ]
  },
  {
   "cell_type": "code",
   "execution_count": null,
   "metadata": {},
   "outputs": [],
   "source": []
  },
  {
   "cell_type": "code",
   "execution_count": 68,
   "metadata": {},
   "outputs": [
    {
     "name": "stderr",
     "output_type": "stream",
     "text": [
      "/home/mohamed/anaconda3/lib/python3.7/site-packages/matplotlib/cbook/__init__.py:1377: FutureWarning: Support for multi-dimensional indexing (e.g. `obj[:, None]`) is deprecated and will be removed in a future version.  Convert to a numpy array before indexing instead.\n",
      "  x[:, None]\n",
      "/home/mohamed/anaconda3/lib/python3.7/site-packages/matplotlib/axes/_base.py:237: FutureWarning: Support for multi-dimensional indexing (e.g. `obj[:, None]`) is deprecated and will be removed in a future version.  Convert to a numpy array before indexing instead.\n",
      "  x = x[:, np.newaxis]\n",
      "/home/mohamed/anaconda3/lib/python3.7/site-packages/matplotlib/cbook/__init__.py:1377: FutureWarning: Support for multi-dimensional indexing (e.g. `obj[:, None]`) is deprecated and will be removed in a future version.  Convert to a numpy array before indexing instead.\n",
      "  x[:, None]\n",
      "/home/mohamed/anaconda3/lib/python3.7/site-packages/matplotlib/axes/_base.py:237: FutureWarning: Support for multi-dimensional indexing (e.g. `obj[:, None]`) is deprecated and will be removed in a future version.  Convert to a numpy array before indexing instead.\n",
      "  x = x[:, np.newaxis]\n"
     ]
    },
    {
     "data": {
      "image/png": "[encoded data removed]",
      "text/plain": [
       "<Figure size 1440x1008 with 1 Axes>"
      ]
     },
     "metadata": {
      "needs_background": "light"
     },
     "output_type": "display_data"
    }
   ],
   "source": [
    "\n",
    "plt.plot(data.index[51:], y_test_b,label='actual')\n",
    "plt.plot(data.index[51:],pridictions_b ,label=\"forcasting\")\n",
    "\n",
    "plt.title('forcatsing business bookings ')\n",
    "plt.xlabel('month')\n",
    "plt.ylabel('perecentage')\n",
    "plt.rcParams[\"figure.figsize\"] = (20,14)\n",
    "plt.legend()\n",
    "plt.show()"
   ]
  },
  {
   "cell_type": "code",
   "execution_count": 92,
   "metadata": {},
   "outputs": [
    {
     "data": {
      "text/plain": [
       "array([0.56198597, 0.5900831 , 0.6091771 , 0.5954192 , 0.5781137 ,\n",
       "       0.56344503, 0.56365705, 0.5651595 , 0.50699097, 0.43832585,\n",
       "       0.36870745, 0.30780357, 0.31347892, 0.31916144, 0.3248509 ,\n",
       "       0.33054686, 0.33624902, 0.34195715, 0.34767085, 0.35338986,\n",
       "       0.3591138 , 0.36484236, 0.37057525, 0.37631208, 0.3820526 ,\n",
       "       0.38779643, 0.39354327, 0.39929283, 0.4050447 , 0.41079858,\n",
       "       0.4165542 ], dtype=float32)"
      ]
     },
     "execution_count": 92,
     "metadata": {},
     "output_type": "execute_result"
    }
   ],
   "source": [
    "pridictions\n",
    "\n"
   ]
  },
  {
   "cell_type": "code",
   "execution_count": 93,
   "metadata": {},
   "outputs": [],
   "source": [
    "pred_tourism=pd.DataFrame(pridictions)"
   ]
  },
  {
   "cell_type": "code",
   "execution_count": 95,
   "metadata": {},
   "outputs": [],
   "source": [
    "pred_tourism.columns=[\"tourism\"]"
   ]
  },
  {
   "cell_type": "code",
   "execution_count": 96,
   "metadata": {},
   "outputs": [
    {
     "data": {
      "text/html": [
       "<div>\n",
       "<style scoped>\n",
       "    .dataframe tbody tr th:only-of-type {\n",
       "        vertical-align: middle;\n",
       "    }\n",
       "\n",
       "    .dataframe tbody tr th {\n",
       "        vertical-align: top;\n",
       "    }\n",
       "\n",
       "    .dataframe thead th {\n",
       "        text-align: right;\n",
       "    }\n",
       "</style>\n",
       "<table border=\"1\" class=\"dataframe\">\n",
       "  <thead>\n",
       "    <tr style=\"text-align: right;\">\n",
       "      <th></th>\n",
       "      <th>tourism</th>\n",
       "    </tr>\n",
       "  </thead>\n",
       "  <tbody>\n",
       "    <tr>\n",
       "      <th>0</th>\n",
       "      <td>0.561986</td>\n",
       "    </tr>\n",
       "    <tr>\n",
       "      <th>1</th>\n",
       "      <td>0.590083</td>\n",
       "    </tr>\n",
       "    <tr>\n",
       "      <th>2</th>\n",
       "      <td>0.609177</td>\n",
       "    </tr>\n",
       "    <tr>\n",
       "      <th>3</th>\n",
       "      <td>0.595419</td>\n",
       "    </tr>\n",
       "    <tr>\n",
       "      <th>4</th>\n",
       "      <td>0.578114</td>\n",
       "    </tr>\n",
       "  </tbody>\n",
       "</table>\n",
       "</div>"
      ],
      "text/plain": [
       "    tourism\n",
       "0  0.561986\n",
       "1  0.590083\n",
       "2  0.609177\n",
       "3  0.595419\n",
       "4  0.578114"
      ]
     },
     "execution_count": 96,
     "metadata": {},
     "output_type": "execute_result"
    }
   ],
   "source": [
    "pred_tourism.head()"
   ]
  },
  {
   "cell_type": "code",
   "execution_count": 97,
   "metadata": {},
   "outputs": [],
   "source": [
    "pred_Buisness=pd.DataFrame(pridictions_b)"
   ]
  },
  {
   "cell_type": "code",
   "execution_count": 98,
   "metadata": {},
   "outputs": [],
   "source": [
    "pred_Buisness.columns=[\"Buisness\"]"
   ]
  },
  {
   "cell_type": "code",
   "execution_count": 104,
   "metadata": {},
   "outputs": [],
   "source": [
    "F_preds=pd.concat([pred_tourism,pred_Buisness],axis=1)"
   ]
  },
  {
   "cell_type": "code",
   "execution_count": 105,
   "metadata": {},
   "outputs": [
    {
     "data": {
      "text/html": [
       "<div>\n",
       "<style scoped>\n",
       "    .dataframe tbody tr th:only-of-type {\n",
       "        vertical-align: middle;\n",
       "    }\n",
       "\n",
       "    .dataframe tbody tr th {\n",
       "        vertical-align: top;\n",
       "    }\n",
       "\n",
       "    .dataframe thead th {\n",
       "        text-align: right;\n",
       "    }\n",
       "</style>\n",
       "<table border=\"1\" class=\"dataframe\">\n",
       "  <thead>\n",
       "    <tr style=\"text-align: right;\">\n",
       "      <th></th>\n",
       "      <th>tourism</th>\n",
       "      <th>Buisness</th>\n",
       "    </tr>\n",
       "  </thead>\n",
       "  <tbody>\n",
       "    <tr>\n",
       "      <th>0</th>\n",
       "      <td>0.561986</td>\n",
       "      <td>0.268399</td>\n",
       "    </tr>\n",
       "    <tr>\n",
       "      <th>1</th>\n",
       "      <td>0.590083</td>\n",
       "      <td>0.200462</td>\n",
       "    </tr>\n",
       "    <tr>\n",
       "      <th>2</th>\n",
       "      <td>0.609177</td>\n",
       "      <td>0.212434</td>\n",
       "    </tr>\n",
       "    <tr>\n",
       "      <th>3</th>\n",
       "      <td>0.595419</td>\n",
       "      <td>0.253270</td>\n",
       "    </tr>\n",
       "    <tr>\n",
       "      <th>4</th>\n",
       "      <td>0.578114</td>\n",
       "      <td>0.275862</td>\n",
       "    </tr>\n",
       "  </tbody>\n",
       "</table>\n",
       "</div>"
      ],
      "text/plain": [
       "    tourism  Buisness\n",
       "0  0.561986  0.268399\n",
       "1  0.590083  0.200462\n",
       "2  0.609177  0.212434\n",
       "3  0.595419  0.253270\n",
       "4  0.578114  0.275862"
      ]
     },
     "execution_count": 105,
     "metadata": {},
     "output_type": "execute_result"
    }
   ],
   "source": [
    "F_preds.head()"
   ]
  },
  {
   "cell_type": "code",
   "execution_count": 206,
   "metadata": {},
   "outputs": [],
   "source": [
    "F_preds.to_csv(\"preds.csv\")"
   ]
  },
  {
   "cell_type": "markdown",
   "metadata": {},
   "source": [
    "# In above cells we bulit two models and test them on testing data  \n",
    "<h3> now we will use those two models to predicting  months a head 2022</h3>"
   ]
  },
  {
   "cell_type": "code",
   "execution_count": 107,
   "metadata": {},
   "outputs": [
    {
     "name": "stdout",
     "output_type": "stream",
     "text": [
      "Model: \"sequential_3\"\n",
      "_________________________________________________________________\n",
      "Layer (type)                 Output Shape              Param #   \n",
      "=================================================================\n",
      "lstm_3 (LSTM)                (None, 32)                4352      \n",
      "_________________________________________________________________\n",
      "dense_7 (Dense)              (None, 16)                528       \n",
      "_________________________________________________________________\n",
      "dense_8 (Dense)              (None, 8)                 136       \n",
      "_________________________________________________________________\n",
      "dense_9 (Dense)              (None, 1)                 9         \n",
      "=================================================================\n",
      "Total params: 5,025\n",
      "Trainable params: 5,025\n",
      "Non-trainable params: 0\n",
      "_________________________________________________________________\n"
     ]
    }
   ],
   "source": [
    "tourism_model.summary()"
   ]
  },
  {
   "cell_type": "code",
   "execution_count": 207,
   "metadata": {},
   "outputs": [],
   "source": [
    "tourism_model.save(\"tourism_model\")"
   ]
  },
  {
   "cell_type": "code",
   "execution_count": 108,
   "metadata": {},
   "outputs": [
    {
     "data": {
      "text/plain": [
       "Month\n",
       "2015-01-01    0.72\n",
       "2015-02-02    0.68\n",
       "2015-03-03    0.60\n",
       "2015-04-01    0.60\n",
       "2015-05-01    0.50\n",
       "Name: Tourism, dtype: float64"
      ]
     },
     "execution_count": 108,
     "metadata": {},
     "output_type": "execute_result"
    }
   ],
   "source": [
    "tourism.head()"
   ]
  },
  {
   "cell_type": "markdown",
   "metadata": {},
   "source": [
    "<h3> now use last 4 months in the tourism dataframe to predict next months  </h3>"
   ]
  },
  {
   "cell_type": "code",
   "execution_count": 111,
   "metadata": {},
   "outputs": [
    {
     "data": {
      "text/plain": [
       "Month\n",
       "2021-09-01    0.30\n",
       "2021-10-01    0.31\n",
       "2021-11-01    0.32\n",
       "2021-12-01    0.33\n",
       "Name: Tourism, dtype: float64"
      ]
     },
     "execution_count": 111,
     "metadata": {},
     "output_type": "execute_result"
    }
   ],
   "source": [
    "tourism.tail(4)"
   ]
  },
  {
   "cell_type": "code",
   "execution_count": 229,
   "metadata": {},
   "outputs": [],
   "source": [
    "new_t=tourism.tail(4)"
   ]
  },
  {
   "cell_type": "code",
   "execution_count": 230,
   "metadata": {},
   "outputs": [
    {
     "data": {
      "text/plain": [
       "Month\n",
       "2021-09-01    0.30\n",
       "2021-10-01    0.31\n",
       "2021-11-01    0.32\n",
       "2021-12-01    0.33\n",
       "Name: Tourism, dtype: float64"
      ]
     },
     "execution_count": 230,
     "metadata": {},
     "output_type": "execute_result"
    }
   ],
   "source": [
    "new_t"
   ]
  },
  {
   "cell_type": "code",
   "execution_count": 232,
   "metadata": {},
   "outputs": [],
   "source": [
    "X_2022=np.array(new_t).reshape(1,4,1)"
   ]
  },
  {
   "cell_type": "code",
   "execution_count": 233,
   "metadata": {},
   "outputs": [
    {
     "data": {
      "text/plain": [
       "(1, 4, 1)"
      ]
     },
     "execution_count": 233,
     "metadata": {},
     "output_type": "execute_result"
    }
   ],
   "source": [
    "X_2022.shape"
   ]
  },
  {
   "cell_type": "code",
   "execution_count": 234,
   "metadata": {},
   "outputs": [],
   "source": [
    "Y_2022=tourism_model.predict(X_2022).flatten()"
   ]
  },
  {
   "cell_type": "code",
   "execution_count": 235,
   "metadata": {},
   "outputs": [
    {
     "data": {
      "text/plain": [
       "array([0.4223112], dtype=float32)"
      ]
     },
     "execution_count": 235,
     "metadata": {},
     "output_type": "execute_result"
    }
   ],
   "source": [
    "Y_2022"
   ]
  },
  {
   "cell_type": "code",
   "execution_count": null,
   "metadata": {},
   "outputs": [],
   "source": []
  },
  {
   "cell_type": "markdown",
   "metadata": {},
   "source": [
    "# <h3> now use last 3 months in the buisness dataframe to predict next months  </h3>"
   ]
  },
  {
   "cell_type": "code",
   "execution_count": 140,
   "metadata": {},
   "outputs": [
    {
     "name": "stdout",
     "output_type": "stream",
     "text": [
      "Model: \"sequential_2\"\n",
      "_________________________________________________________________\n",
      "Layer (type)                 Output Shape              Param #   \n",
      "=================================================================\n",
      "lstm_2 (LSTM)                (None, 32)                4352      \n",
      "_________________________________________________________________\n",
      "dense_5 (Dense)              (None, 8)                 264       \n",
      "_________________________________________________________________\n",
      "dense_6 (Dense)              (None, 1)                 9         \n",
      "=================================================================\n",
      "Total params: 4,625\n",
      "Trainable params: 4,625\n",
      "Non-trainable params: 0\n",
      "_________________________________________________________________\n"
     ]
    }
   ],
   "source": [
    "buisness_model.summary()"
   ]
  },
  {
   "cell_type": "code",
   "execution_count": 211,
   "metadata": {},
   "outputs": [],
   "source": [
    "X_B=np.array(business.tail(3))"
   ]
  },
  {
   "cell_type": "code",
   "execution_count": 220,
   "metadata": {},
   "outputs": [],
   "source": [
    "X_B=X_B.reshape(1,3,1)"
   ]
  },
  {
   "cell_type": "code",
   "execution_count": 225,
   "metadata": {},
   "outputs": [
    {
     "data": {
      "text/plain": [
       "array([[[0.36],\n",
       "        [0.26],\n",
       "        [0.31]]])"
      ]
     },
     "execution_count": 225,
     "metadata": {},
     "output_type": "execute_result"
    }
   ],
   "source": [
    "X_B"
   ]
  },
  {
   "cell_type": "code",
   "execution_count": 222,
   "metadata": {},
   "outputs": [],
   "source": [
    "Y_B_2022=buisness_model.predict(X_B).flatten()"
   ]
  },
  {
   "cell_type": "code",
   "execution_count": 223,
   "metadata": {},
   "outputs": [
    {
     "data": {
      "text/plain": [
       "array([0.25873727], dtype=float32)"
      ]
     },
     "execution_count": 223,
     "metadata": {},
     "output_type": "execute_result"
    }
   ],
   "source": [
    "Y_B_2022"
   ]
  },
  {
   "cell_type": "code",
   "execution_count": 224,
   "metadata": {},
   "outputs": [],
   "source": [
    "buisness_model.save(\"buisness_model\")"
   ]
  },
  {
   "cell_type": "markdown",
   "metadata": {},
   "source": [
    "# use pridected data to forcast more than one month ahead "
   ]
  },
  {
   "cell_type": "code",
   "execution_count": null,
   "metadata": {},
   "outputs": [],
   "source": []
  },
  {
   "cell_type": "code",
   "execution_count": null,
   "metadata": {},
   "outputs": [],
   "source": []
  },
  {
   "cell_type": "code",
   "execution_count": null,
   "metadata": {},
   "outputs": [],
   "source": []
  },
  {
   "cell_type": "code",
   "execution_count": null,
   "metadata": {},
   "outputs": [],
   "source": []
  },
  {
   "cell_type": "code",
   "execution_count": null,
   "metadata": {},
   "outputs": [],
   "source": []
  }
 ],
 "metadata": {
  "kernelspec": {
   "display_name": "Python 3",
   "language": "python",
   "name": "python3"
  },
  "language_info": {
   "codemirror_mode": {
    "name": "ipython",
    "version": 3
   },
   "file_extension": ".py",
   "mimetype": "text/x-python",
   "name": "python",
   "nbconvert_exporter": "python",
   "pygments_lexer": "ipython3",
   "version": "3.7.3"
  }
 },
 "nbformat": 4,
 "nbformat_minor": 2
}
